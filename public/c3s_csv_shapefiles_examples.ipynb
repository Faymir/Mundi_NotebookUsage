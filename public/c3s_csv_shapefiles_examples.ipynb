{
 "cells": [
  {
   "cell_type": "markdown",
   "metadata": {},
   "source": [
    "# C3S examples \n",
    "## Retrieve and visualize CSV and Shape files"
   ]
  },
  {
   "cell_type": "markdown",
   "metadata": {},
   "source": [
    "## 1 - Configuration"
   ]
  },
  {
   "cell_type": "markdown",
   "metadata": {},
   "source": [
    "### 1.1 - SET YOUR C3S ACCOUNT (FOR THE AUTHENTIFICATION) "
   ]
  },
  {
   "cell_type": "code",
   "execution_count": null,
   "metadata": {},
   "outputs": [],
   "source": [
    "# For Registration (C3S)\n",
    "url_registration= 'https://cds.climate.copernicus.eu/user/register?destination=%2F%23!%2Fhome'\n",
    "from IPython.core.display import display, HTML\n",
    "display(HTML(f\"\"\"<a href={url_registration}>{'Registration_C3S - please click on it'}</a>\"\"\"))"
   ]
  },
  {
   "cell_type": "markdown",
   "metadata": {},
   "source": [
    "### 1.2 - Log in and retrieve your key"
   ]
  },
  {
   "cell_type": "code",
   "execution_count": null,
   "metadata": {},
   "outputs": [],
   "source": [
    "url_login= 'https://cds.climate.copernicus.eu/user/login?destination=%2F%23!%2Fhome'\n",
    "url_key = 'https://cds.climate.copernicus.eu/api-how-to'\n",
    "\n",
    "display(HTML(f\"\"\"<a href={url_login}>{'Please login - please click on it'}</a>\"\"\"))\n",
    "display(HTML(f\"\"\"<a href={url_key}>{'Retrieve your key - please click on it'}</a>\"\"\"))"
   ]
  },
  {
   "cell_type": "markdown",
   "metadata": {},
   "source": [
    "### 1.3- Install the CDS API key"
   ]
  },
  {
   "cell_type": "code",
   "execution_count": null,
   "metadata": {},
   "outputs": [],
   "source": [
    "import os\n",
    "\n",
    "print('Please enter your key:')\n",
    "key = input()\n",
    "\n",
    "content = \"url: https://cds.climate.copernicus.eu/api/v2\\nkey: \" + key\n",
    "\n",
    "#Write content in $HOME/.cdsapirc \n",
    "f = open(os.environ[\"HOME\"] + '/cdsapirc', 'w')\n",
    "f.write(content)\n",
    "f.close()\n",
    "!mv $HOME/cdsapirc $HOME/.cdsapirc"
   ]
  },
  {
   "cell_type": "markdown",
   "metadata": {},
   "source": [
    "## 2 - Consult the catalogue"
   ]
  },
  {
   "cell_type": "markdown",
   "metadata": {},
   "source": [
    "#### Choose a dataset, click on \"Download data\", select the desired parameters, agree to the Terms of Use and finally, click on \"Show API request\" to see the Python script"
   ]
  },
  {
   "cell_type": "code",
   "execution_count": null,
   "metadata": {},
   "outputs": [],
   "source": [
    "url_dataset= 'https://cds.climate.copernicus.eu/cdsapp#!/search?type=dataset'\n",
    "display(HTML(f\"\"\"<a href={url_dataset}>{'Consult the catalogue - please click on it'}</a>\"\"\"))"
   ]
  },
  {
   "cell_type": "markdown",
   "metadata": {},
   "source": [
    "## 3 - Satellite Observations"
   ]
  },
  {
   "cell_type": "markdown",
   "metadata": {},
   "source": [
    "### 3.1 - Create a data folder"
   ]
  },
  {
   "cell_type": "code",
   "execution_count": null,
   "metadata": {},
   "outputs": [],
   "source": [
    "#Get the destination folder path\n",
    "folder = '/home/jovyan/c3s_data/c3s_csv_shapefiles_examples'\n",
    "import os\n",
    "#Create the folder if it doesn't exist\n",
    "if not os.path.exists(folder):\n",
    "    os.makedirs(folder)\n",
    "\n",
    "zip_file = folder + '/glaciers_mass_balance' #Give a name to your file"
   ]
  },
  {
   "cell_type": "markdown",
   "metadata": {},
   "source": [
    "### 3.2 - Download a file\n",
    "#### TO DO : Check you agree with the __[Terms of Use](https://cds.climate.copernicus.eu/cdsapp#!/dataset/insitu-glaciers-elevation-mass?tab=form)__ (Last section)\n",
    "#### Note : Please, go to https://cds.climate.copernicus.eu/cdsapp#!/yourrequests to track the progress of your request"
   ]
  },
  {
   "cell_type": "code",
   "execution_count": null,
   "metadata": {},
   "outputs": [],
   "source": [
    "import cdsapi\n",
    "\n",
    "c = cdsapi.Client()\n",
    "\n",
    "c.retrieve(\n",
    "    'insitu-glaciers-elevation-mass',\n",
    "    {\n",
    "        'variable':'all',\n",
    "        'format':'zip',\n",
    "        'product_type':'mass_balance',\n",
    "        'file_version':'20181103'\n",
    "    },\n",
    "    zip_file)"
   ]
  },
  {
   "cell_type": "markdown",
   "metadata": {},
   "source": [
    "### 3.3 - Unzip the file"
   ]
  },
  {
   "cell_type": "code",
   "execution_count": null,
   "metadata": {},
   "outputs": [],
   "source": [
    "import zipfile\n",
    "\n",
    "zip = zipfile.ZipFile(zip_file)\n",
    "zip.extractall(folder)"
   ]
  },
  {
   "cell_type": "markdown",
   "metadata": {},
   "source": [
    "### 3.4 - Display a map"
   ]
  },
  {
   "cell_type": "code",
   "execution_count": null,
   "metadata": {},
   "outputs": [],
   "source": [
    "from folium.plugins import MarkerCluster\n",
    "import pandas\n",
    "import folium\n",
    "import branca\n",
    "import shapefile\n",
    "import numpy as np\n",
    "from matplotlib.pyplot import figure\n",
    "import matplotlib.pyplot as plt\n",
    "import ipywidgets as widgets\n",
    "from datetime import datetime\n",
    "from io import BytesIO\n",
    "import base64\n",
    "\n",
    "#Read the files\n",
    "csv = pandas.read_csv(folder + '/_C3S_MASS_BALANCE_DATA_20181103.csv', encoding='ISO-8859-1')\n",
    "sf = shapefile.Reader( folder + '/_C3S_MASS_BALANCE_SERIES_20181103.shp')\n",
    "\n",
    "#Create a progress bar\n",
    "progress_bar = widgets.IntProgress(\n",
    "    value=0,\n",
    "    min=0,\n",
    "    max=len(sf.records()),\n",
    "    step=1,\n",
    "    description='Loading:',\n",
    ")\n",
    "display(progress_bar)\n",
    "\n",
    "#Create a map\n",
    "m = folium.Map(location=[20,0], zoom_start=5)\n",
    "marker_cluster = MarkerCluster().add_to(m)\n",
    "\n",
    "#For each record, add a marker to the map\n",
    "for feature in sf.records():\n",
    "    id = feature.WGMS_ID\n",
    "    \n",
    "    #Retrieve information in the csv file\n",
    "    survey_dates = [datetime.strptime(str(i)[0:4], '%Y') \\\n",
    "                    for i in list(csv.SURVEY_DATE[csv.WGMS_ID == id])]\n",
    "    mass_balances = list(csv.ANNUAL_BALANCE[csv.WGMS_ID == id])\n",
    "\n",
    "    #Create a figure\n",
    "    f= figure()\n",
    "    \n",
    "    plt.bar(range(len(mass_balances)), mass_balances, alpha=0.5)\n",
    "    plt.xticks(np.arange(0, len(mass_balances), step=len(survey_dates)//10+1), \\\n",
    "               [rd.year for rd in survey_dates[::len(survey_dates)//10+1]])\n",
    "    \n",
    "    plt.title(csv.NAME[csv.WGMS_ID == id].any() + ' WGMS_ID=' + str(id))\n",
    "    plt.xlabel('Year')\n",
    "    plt.ylabel('Annual mass balance')\n",
    "    \n",
    "    buf = BytesIO()\n",
    "    f.savefig(buf, format=\"png\")\n",
    "    plt.close(f)\n",
    "    \n",
    "    #Embed the result in the html output\n",
    "    data = base64.b64encode(buf.getbuffer()).decode(\"ascii\")\n",
    "    html = f\"<img src='data:image/png;base64,{data}' style='max-width: 100%;max-height: 100%;'/>\" \n",
    "    \n",
    "    #Create a popup\n",
    "    iframe = branca.element.IFrame(html=html, width=500, height=300)\n",
    "    popup = folium.Popup(iframe, max_width=800)\n",
    "\n",
    "    #Create a marker \n",
    "    folium.Marker(location=[feature.LATITUDE, feature.LONGITUDE],\\\n",
    "                  popup=popup).add_to(marker_cluster)\n",
    "    \n",
    "    progress_bar.value += 1\n",
    "\n",
    "#Save the map\n",
    "m.save(folder + '/folium_map.html')"
   ]
  },
  {
   "cell_type": "markdown",
   "metadata": {},
   "source": [
    "#### TO DO : Please Copy The Download Link Of The File \"folium_map.html\" And Paste It In Url"
   ]
  },
  {
   "cell_type": "code",
   "execution_count": null,
   "metadata": {},
   "outputs": [],
   "source": [
    "Url=''\n",
    "info='Please Click on it to display the result'\n",
    "from IPython.core.display import display, HTML\n",
    "\n",
    "display(HTML(f\"\"\"<a href={Url}>{info}</a>\"\"\"))"
   ]
  },
  {
   "cell_type": "code",
   "execution_count": null,
   "metadata": {},
   "outputs": [],
   "source": []
  }
 ],
 "metadata": {
  "kernelspec": {
   "display_name": "Python 3",
   "language": "python",
   "name": "python3"
  },
  "language_info": {
   "codemirror_mode": {
    "name": "ipython",
    "version": 3
   },
   "file_extension": ".py",
   "mimetype": "text/x-python",
   "name": "python",
   "nbconvert_exporter": "python",
   "pygments_lexer": "ipython3",
   "version": "3.7.4"
  }
 },
 "nbformat": 4,
 "nbformat_minor": 2
}
