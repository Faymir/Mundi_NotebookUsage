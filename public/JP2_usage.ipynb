{
 "cells": [
  {
   "cell_type": "markdown",
   "metadata": {},
   "source": [
    "# JP2000 USAGE"
   ]
  },
  {
   "cell_type": "markdown",
   "metadata": {},
   "source": [
    "## 1 - Configuration"
   ]
  },
  {
   "cell_type": "markdown",
   "metadata": {},
   "source": [
    "### 1.1 - Imports"
   ]
  },
  {
   "cell_type": "code",
   "execution_count": null,
   "metadata": {
    "tags": "hide_input"
   },
   "outputs": [],
   "source": [
    "import sys\n",
    "sys.path.append(\"../lib\") \n",
    "import gdal\n",
    "import matplotlib.pyplot as plt\n",
    "from scipy import interpolate\n",
    "import numpy as np\n",
    "import math\n",
    "import getpass\n",
    "from mundilib import MundiCatalogue, get_node\n",
    "from utils import city_polygon_bbox, country_polygon_bbox\n",
    "import xml.etree.ElementTree as ET\n",
    "from datetime import datetime, timedelta\n",
    "import folium"
   ]
  },
  {
   "cell_type": "markdown",
   "metadata": {},
   "source": [
    "### 1.2 - Use your acces key"
   ]
  },
  {
   "cell_type": "code",
   "execution_count": null,
   "metadata": {
    "tags": [
     "hide_input"
    ]
   },
   "outputs": [],
   "source": [
    "print(\"Please enter your acces key: \")\n",
    "ak = input()\n",
    "print(\"Please enter your secret key: \")\n",
    "sk = input()\n",
    "\n",
    "gdal.SetConfigOption(\"AWS_ACCESS_KEY_ID\", ak)\n",
    "gdal.SetConfigOption(\"AWS_SECRET_ACCESS_KEY\", sk)\n",
    "gdal.SetConfigOption(\"AWS_REGION\", \"eu-de\")\n",
    "gdal.SetConfigOption(\"AWS_VIRTUAL_HOSTING\", \"FALSE\")\n",
    "gdal.SetConfigOption(\"AWS_S3_ENDPOINT\", \"obs.eu-de.otc.t-systems.com\")\n",
    "gdal.SetConfigOption(\"GDAL_HTTP_UNSAFESSL\", \"YES\")\n",
    "gdal.SetConfigOption(\"AWS_DEFAULT_REGION\", \"eu-de\")"
   ]
  },
  {
   "cell_type": "markdown",
   "metadata": {},
   "source": [
    "### 1.3 - Select Bounding Box"
   ]
  },
  {
   "cell_type": "code",
   "execution_count": null,
   "metadata": {},
   "outputs": [],
   "source": [
    "import ipywidgets as widgets\n",
    "from IPython.display import display, clear_output\n",
    "\n",
    "lonmin = widgets.FloatText(value = 1.40,  description = 'Long min:', disabled = False, step = 0.01)\n",
    "latmin = widgets.FloatText(value = 43.55, description = 'Lat min:',  disabled = False, step = 0.01)\n",
    "lonmax = widgets.FloatText(value = 1.50,  description = 'Long max:', disabled = False, step = 0.01)\n",
    "latmax = widgets.FloatText(value = 43.65, description = 'Lat max:',  disabled = False, step = 0.01)\n",
    "\n",
    "bbox_menu = widgets.VBox([lonmin, latmin, lonmax, latmax])\n",
    "country_menu = widgets.Text(placeholder = 'Ex: Germany, Spain...')\n",
    "cities_menu = widgets.Text(placeholder = 'Ex: Toulouse, Paris...')\n",
    "\n",
    "children = [bbox_menu, \n",
    "            widgets.VBox([\n",
    "                widgets.Label(value=\"Enter a country:\"),\n",
    "                country_menu\n",
    "            ]),\n",
    "            widgets.VBox([\n",
    "                widgets.Label(value=\"Enter a city:\"),\n",
    "                cities_menu\n",
    "            ])]\n",
    "\n",
    "tab = widgets.Tab()\n",
    "tab.children = children\n",
    "tab.set_title(0, 'Bounding Box')\n",
    "tab.set_title(1, 'Country')\n",
    "tab.set_title(2, 'Cities')\n",
    "\n",
    "bbox = [1.40, 43.55, 1.50, 43.65]\n",
    "out = widgets.Output()\n",
    "button = widgets.Button(description = 'Validate')\n",
    "vbox = widgets.VBox([button, out])\n",
    "\n",
    "display(tab)\n",
    "display(vbox)\n",
    "\n",
    "def click(b):\n",
    "    global bbox\n",
    "    if (tab.selected_index == 0):\n",
    "        bbox = [lonmax.value, latmax.value, lonmin.value, latmin.value]\n",
    "    elif(tab.selected_index == 1):\n",
    "        polygon, bbox = country_polygon_bbox(country_menu.value)\n",
    "    elif(tab.selected_index == 2):\n",
    "        polygon, bbox, place_name = city_polygon_bbox(cities_menu.value)\n",
    "    lonmin.value = bbox[2]\n",
    "    latmin.value = bbox[3]\n",
    "    lonmax.value = bbox[0]\n",
    "    latmax.value = bbox[1]\n",
    "    with out:\n",
    "        print(bbox)\n",
    "button.on_click(click)"
   ]
  },
  {
   "cell_type": "markdown",
   "metadata": {},
   "source": [
    "### 1.4 - Select in mundi catalog"
   ]
  },
  {
   "cell_type": "code",
   "execution_count": null,
   "metadata": {},
   "outputs": [],
   "source": [
    "c = MundiCatalogue()\n",
    "csw = c.get_collection(\"Sentinel2\").mundi_csw()\n",
    "t = datetime.utcnow() + timedelta(days = -6)\n",
    "xml_string='''\n",
    "<?xml version='1.0'?>\n",
    "<GetRecords xmlns='http://www.opengis.net/cat/csw/2.0.2'\n",
    "    xmlns:DIAS='http://tas/DIAS'\n",
    "    xmlns:csw='http://www.opengis.net/cat/csw/2.0.2'\n",
    "    xmlns:dc='http://purl.org/dc/elements/1.1/'\n",
    "    xmlns:dct='http://purl.org/dc/terms/'\n",
    "    xmlns:gml='http://www.opengis.net/gml'\n",
    "    xmlns:ogc='http://www.opengis.net/ogc'\n",
    "    xmlns:ows='http://www.opengis.net/ows'\n",
    "    xmlns:xsi='http://www.w3.org/2001/XMLSchema-instance'\n",
    "    service='CSW' version='2.0.2' maxRecords='50' startPosition='1' resultType='results'\n",
    "    outputFormat='application/xml' outputSchema='csw:Record' xsi:schemaLocation='http://www.opengis.net/cat/csw/2.0.2/CSW-discovery.xsd'>\n",
    "    <csw:Query typeNames='csw:Record'>\n",
    "        <csw:ElementSetName>full</csw:ElementSetName>\n",
    "        <csw:Constraint version='1.1.0'>\n",
    "            <ogc:Filter xmlns:ogc=\"http://www.opengis.net/ogc\">\n",
    "                <csw:And>\n",
    "                     <csw:Or>\n",
    "                        <ogc:PropertyIsEqualTo>\n",
    "                            <ogc:PropertyName>DIAS:onlineStatus</ogc:PropertyName>\n",
    "                            <ogc:Literal>STAGING</ogc:Literal>\n",
    "                        </ogc:PropertyIsEqualTo>\n",
    "                        <ogc:PropertyIsEqualTo>\n",
    "                            <ogc:PropertyName>DIAS:onlineStatus</ogc:PropertyName>\n",
    "                            <ogc:Literal>ONLINE</ogc:Literal>\n",
    "                        </ogc:PropertyIsEqualTo>\n",
    "                    </csw:Or>\n",
    "                    <ogc:PropertyIsGreaterThan>\n",
    "                        <ogc:PropertyName>DIAS:sensingStartDate</ogc:PropertyName>\n",
    "                        <ogc:Literal>{1}Z</ogc:Literal>\n",
    "                    </ogc:PropertyIsGreaterThan>\n",
    "                    <ogc:Intersects>\n",
    "                        <ogc:PropertyName>DIAS:footprint</ogc:PropertyName>\n",
    "                        <gml:Envelope xmlns:gml=\"http://www.opengis.net/gml\" srsName=\"EPSG:4326\">                        \n",
    "                            <gml:lowerCorner>{0[2]} {0[3]}</gml:lowerCorner>\n",
    "                            <gml:upperCorner>{0[0]} {0[1]}</gml:upperCorner>\n",
    "                        </gml:Envelope>\n",
    "                    </ogc:Intersects>\n",
    "                 </csw:And>\n",
    "            </ogc:Filter>\n",
    "        </csw:Constraint>\n",
    "        <ogc:SortBy xmlns:ogc=\"http://www.opengis.net/ogc\">\n",
    "            <ogc:SortProperty>\n",
    "                <ogc:PropertyName>DIAS:sensingStartDate</ogc:PropertyName>\n",
    "                <ogc:SortOrder>DESC</ogc:SortOrder>\n",
    "            </ogc:SortProperty>\n",
    "        </ogc:SortBy>\n",
    "    </csw:Query>\n",
    "</GetRecords>'''.format(bbox, t.isoformat(timespec='seconds'))\n",
    "payload = xml_string.strip()\n",
    "csw.get_records(xml = payload)\n",
    "print(\"Number of dataset records: %d\" % len(csw.records))\n",
    "if(len(csw.records) == 0):\n",
    "    raise(Exception(\"No image Found\"))\n",
    "\n",
    "product_menu = widgets.Dropdown(\n",
    "    options=csw.records,\n",
    "    description='Produit:',\n",
    "    disabled=False,\n",
    "    width='100%',\n",
    ")\n",
    "display(product_menu)"
   ]
  },
  {
   "cell_type": "markdown",
   "metadata": {},
   "source": [
    "### 1.5 - Select a file"
   ]
  },
  {
   "cell_type": "code",
   "execution_count": null,
   "metadata": {},
   "outputs": [],
   "source": [
    "import boto3\n",
    "\n",
    "b = product_menu.value\n",
    "baseurl = get_node(b, \"DIAS:archiveProductURI\").text\n",
    "baseurl.replace(\"https://mundiwebservices.com/dp\", \"https://obs.eu-de.otc.t-systems.com\")\n",
    "\n",
    "client = boto3.client(\n",
    "    's3',\n",
    "    aws_access_key_id=ak,\n",
    "    aws_secret_access_key=sk,\n",
    "    endpoint_url='https://obs.eu-de.otc.t-systems.com',\n",
    ")\n",
    "basekey = baseurl[51:]\n",
    "key = basekey + \"/manifest.safe\"\n",
    "bucket = baseurl[36:50]\n",
    "res = client.get_object(Bucket=bucket, Key=key)\n",
    "tree = ET.fromstring(res[\"Body\"].read().decode('utf-8'))\n",
    "root = tree\n",
    "dataobjects = root.find(\"dataObjectSection\")\n",
    "files = {}\n",
    "for i in dataobjects:\n",
    "    if \"ID\" in i.attrib and i.attrib[\"ID\"].startswith(\"IMG_DATA_Band\"):\n",
    "        files[i[0][0].attrib[\"href\"].split(\"/\")[-1]] = basekey + i[0][0].attrib[\"href\"][1:]\n",
    "files_menu = widgets.Dropdown(\n",
    "    options=files,\n",
    "    description='File:',\n",
    "    disabled=False,\n",
    "    width='100%',\n",
    ")\n",
    "scale_menu = widgets.IntSlider(\n",
    "    value=2,\n",
    "    min=0,\n",
    "    max=10,\n",
    "    step=1,\n",
    "    description='Scale:',\n",
    "    disabled=False,\n",
    "    continuous_update=False,\n",
    "    orientation='horizontal',\n",
    "    readout=True,\n",
    "    readout_format='d'\n",
    ")\n",
    "display(files_menu, scale_menu)"
   ]
  },
  {
   "cell_type": "markdown",
   "metadata": {},
   "source": [
    "## 2 - Using images"
   ]
  },
  {
   "cell_type": "code",
   "execution_count": null,
   "metadata": {},
   "outputs": [],
   "source": [
    "my_image = gdal.Open('/vsis3/'+ bucket +\"/\"+files_menu.value)\n",
    "scale = scale_menu.value\n",
    "band1 = my_image.GetRasterBand(1)\n",
    "if scale > 0 and band1.GetOverviewCount() > scale:\n",
    "    band1 = my_image.GetRasterBand(1).GetOverview(scale)\n",
    "print(band1.XSize, band1.YSize)"
   ]
  },
  {
   "cell_type": "markdown",
   "metadata": {},
   "source": [
    "## 3.3 - Compute localisation"
   ]
  },
  {
   "cell_type": "code",
   "execution_count": null,
   "metadata": {},
   "outputs": [],
   "source": [
    "gt = my_image.GetGeoTransform()\n",
    "scale = 0\n",
    "band1 = my_image.GetRasterBand(1)\n",
    "if scale > 0 and band1.GetOverviewCount() > scale:\n",
    "    band1 = my_image.GetRasterBand(1).GetOverview(scale)\n",
    "\n",
    "gt = [i for i in gt]\n",
    "gt[1], gt[5] = (gt[1],gt[5]) if scale == 0 else (gt[1] * 2 ** (scale + 1), (gt[5] * 2 ** (scale + 1)))\n",
    "print(gt)"
   ]
  },
  {
   "cell_type": "code",
   "execution_count": null,
   "metadata": {},
   "outputs": [],
   "source": [
    "from osgeo import ogr\n",
    "from osgeo import osr\n",
    "proj = osr.SpatialReference(wkt=my_image.GetProjection())\n",
    "\n",
    "source = osr.SpatialReference()\n",
    "source.ImportFromEPSG(4326)\n",
    "\n",
    "target = osr.SpatialReference()\n",
    "target.ImportFromEPSG(int(proj.GetAttrValue('AUTHORITY',1)))\n",
    "\n",
    "transform = osr.CoordinateTransformation(source, target)\n",
    "point = ogr.Geometry(ogr.wkbLinearRing)\n",
    "point.AddPoint(bbox[0], bbox[1])\n",
    "point.AddPoint(bbox[2], bbox[3])\n",
    "print(point)\n",
    "point.Transform(transform)\n",
    "\n",
    "bbox = [point.GetPoint(0)[0], point.GetPoint(0)[1], point.GetPoint(1)[0], point.GetPoint(1)[1]]"
   ]
  },
  {
   "cell_type": "code",
   "execution_count": null,
   "metadata": {},
   "outputs": [],
   "source": [
    "mx1 = bbox[2] \n",
    "my1 = bbox[3]\n",
    "mx2 = bbox[0]\n",
    "my2 = bbox[1]\n",
    "px1 = int((mx1 - gt[0]) / gt[1])\n",
    "py1 = int((my1 - gt[3]) / gt[5])\n",
    "px2 = int((mx2 - gt[0]) / gt[1])\n",
    "py2 = int((my2 - gt[3]) / gt[5])\n",
    "position = [min(px1, px2), min(py1, py2), max(px1, px2), max(py1, py2)]\n",
    "size = [position[2] - position[0], position[3] - position[1]]\n",
    "\n",
    "k = np.frombuffer(band1.ReadRaster1(position[0], position[1], size[0], size[1]),\n",
    "                  dtype='uint16', count = size[0] * size[1]).reshape([size[1], size[0]])\n",
    "\n",
    "left = gt[0] + position[0]*gt[1]\n",
    "top = gt[3] + position[1]*gt[5]\n",
    "subset_extent = (left, left + size[0]*gt[1], \n",
    "                   top + size[1]*gt[5], top)\n",
    "print(subset_extent)"
   ]
  },
  {
   "cell_type": "code",
   "execution_count": null,
   "metadata": {},
   "outputs": [],
   "source": [
    "transform = osr.CoordinateTransformation(target, source)\n",
    "point = ogr.Geometry(ogr.wkbLinearRing)\n",
    "point.AddPoint(subset_extent[0], subset_extent[2])\n",
    "point.AddPoint(subset_extent[1], subset_extent[3])\n",
    "print(point)\n",
    "point.Transform(transform)\n",
    "print(point)\n",
    "subset_extent = [point.GetPoint(0)[0], point.GetPoint(1)[0], point.GetPoint(0)[1], point.GetPoint(1)[1]]"
   ]
  },
  {
   "cell_type": "code",
   "execution_count": null,
   "metadata": {},
   "outputs": [],
   "source": []
  },
  {
   "cell_type": "markdown",
   "metadata": {},
   "source": [
    "## 3.4 - Show on map"
   ]
  },
  {
   "cell_type": "code",
   "execution_count": null,
   "metadata": {},
   "outputs": [],
   "source": [
    "m = folium.Map(location=(subset_extent[2], subset_extent[0]))\n",
    "def colmap(x):\n",
    "    if x != 0:\n",
    "        temp = np.log(x)\n",
    "        return (temp, temp, temp, 1) \n",
    "    else:\n",
    "        return (0, 0, 0, 0)\n",
    "folium.raster_layers.ImageOverlay(\n",
    "    image=k,\n",
    "    bounds=[(subset_extent[2], subset_extent[0]), (subset_extent[3], subset_extent[1])],\n",
    "    origin='upper',\n",
    "    opacity=1\n",
    ").add_to(m)\n",
    "folium.vector_layers.Polygon(\n",
    "    locations=[(subset_extent[2], subset_extent[0]), (subset_extent[3], subset_extent[0]), (subset_extent[3], subset_extent[1]), (subset_extent[2], subset_extent[1])],\n",
    "    color=\"lightblue\",\n",
    ").add_to(m)\n",
    "folium.LayerControl().add_to(m)\n",
    "m.save('/home/jovyan/work/folium_map.html')"
   ]
  },
  {
   "cell_type": "code",
   "execution_count": null,
   "metadata": {},
   "outputs": [],
   "source": []
  }
 ],
 "metadata": {
  "kernelspec": {
   "display_name": "Python 3",
   "language": "python",
   "name": "python3"
  },
  "language_info": {
   "codemirror_mode": {
    "name": "ipython",
    "version": 3
   },
   "file_extension": ".py",
   "mimetype": "text/x-python",
   "name": "python",
   "nbconvert_exporter": "python",
   "pygments_lexer": "ipython3",
   "version": "3.7.6"
  }
 },
 "nbformat": 4,
 "nbformat_minor": 2
}
