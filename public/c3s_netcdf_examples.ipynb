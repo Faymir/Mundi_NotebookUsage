{
 "cells": [
  {
   "cell_type": "markdown",
   "metadata": {},
   "source": [
    "# C3S examples \n",
    "## Retrieve and visualize NetCDF files"
   ]
  },
  {
   "cell_type": "markdown",
   "metadata": {},
   "source": [
    "## 1 - Configuration"
   ]
  },
  {
   "cell_type": "markdown",
   "metadata": {},
   "source": [
    "### 1.1 - SET YOUR C3S ACCOUNT (FOR THE AUTHENTIFICATION) "
   ]
  },
  {
   "cell_type": "code",
   "execution_count": null,
   "metadata": {},
   "outputs": [],
   "source": [
    "# For Registration (C3S)\n",
    "url_registration= 'https://cds.climate.copernicus.eu/user/register?destination=%2F%23!%2Fhome'\n",
    "from IPython.core.display import display, HTML\n",
    "display(HTML(f\"\"\"<a href={url_registration}>{'Registration_C3S - please click on it'}</a>\"\"\"))"
   ]
  },
  {
   "cell_type": "markdown",
   "metadata": {},
   "source": [
    "### 1.2 - Log in and retrieve your key"
   ]
  },
  {
   "cell_type": "code",
   "execution_count": null,
   "metadata": {},
   "outputs": [],
   "source": [
    "url_login= 'https://cds.climate.copernicus.eu/user/login?destination=%2F%23!%2Fhome'\n",
    "url_key = 'https://cds.climate.copernicus.eu/api-how-to'\n",
    "\n",
    "display(HTML(f\"\"\"<a href={url_login}>{'Please login - please click on it'}</a>\"\"\"))\n",
    "display(HTML(f\"\"\"<a href={url_key}>{'Retrieve your key - please click on it'}</a>\"\"\"))"
   ]
  },
  {
   "cell_type": "markdown",
   "metadata": {},
   "source": [
    "### 1.3- Install the CDS API key"
   ]
  },
  {
   "cell_type": "code",
   "execution_count": null,
   "metadata": {},
   "outputs": [],
   "source": [
    "import os\n",
    "\n",
    "print('Please enter your key:')\n",
    "key = input()\n",
    "\n",
    "content = \"url: https://cds.climate.copernicus.eu/api/v2\\nkey: \" + key\n",
    "\n",
    "#Write content in $HOME/.cdsapirc \n",
    "f = open(os.environ[\"HOME\"] + '/cdsapirc', 'w')\n",
    "f.write(content)\n",
    "f.close()\n",
    "!mv $HOME/cdsapirc $HOME/.cdsapirc"
   ]
  },
  {
   "cell_type": "markdown",
   "metadata": {},
   "source": [
    "## 2 - Consult the catalogue"
   ]
  },
  {
   "cell_type": "markdown",
   "metadata": {},
   "source": [
    "#### Choose a dataset, click on \"Download data\", select the desired parameters, agree to the Terms of Use and finally, click on \"Show API request\" to see the Python script"
   ]
  },
  {
   "cell_type": "code",
   "execution_count": null,
   "metadata": {},
   "outputs": [],
   "source": [
    "url_dataset= 'https://cds.climate.copernicus.eu/cdsapp#!/search?type=dataset'\n",
    "display(HTML(f\"\"\"<a href={url_dataset}>{'Consult the catalogue - please click on it'}</a>\"\"\"))"
   ]
  },
  {
   "cell_type": "markdown",
   "metadata": {},
   "source": [
    "## 3 - Climate projections"
   ]
  },
  {
   "cell_type": "markdown",
   "metadata": {},
   "source": [
    "### 3.1 - Create a data folder"
   ]
  },
  {
   "cell_type": "code",
   "execution_count": null,
   "metadata": {},
   "outputs": [],
   "source": [
    "#Get the destination folder path\n",
    "folder = '/home/jovyan/work/c3s_data/c3s_NetCDF_examples/04_Climate_projections'\n",
    "\n",
    "import os \n",
    "\n",
    "#Create the folder if it doesn't exist\n",
    "if not os.path.exists(folder):\n",
    "    os.makedirs(folder)\n",
    "\n",
    "filename = folder + '/2m_temperature'"
   ]
  },
  {
   "cell_type": "markdown",
   "metadata": {},
   "source": [
    "### 3.2 - Download a file\n",
    "#### TO DO : Check you agree with the __[Terms of Use](https://cds.climate.copernicus.eu/cdsapp#!/dataset/projections-cmip5-monthly-single-levels?tab=form)__ (Last section)\n",
    "#### Note : Please, go to https://cds.climate.copernicus.eu/cdsapp#!/yourrequests to track the progress of your request"
   ]
  },
  {
   "cell_type": "code",
   "execution_count": null,
   "metadata": {},
   "outputs": [],
   "source": [
    "import cdsapi\n",
    "\n",
    "c = cdsapi.Client()\n",
    "\n",
    "c.retrieve(\n",
    "    'projections-cmip5-monthly-single-levels',\n",
    "    {\n",
    "        'ensemble_member':'r1i1p1',\n",
    "        'format':'zip',\n",
    "        'experiment':'rcp_8_5',\n",
    "        'period':'200512-203011',\n",
    "        'model':'hadgem2_cc',\n",
    "        'variable':'2m_temperature'\n",
    "    },\n",
    "    filename)"
   ]
  },
  {
   "cell_type": "markdown",
   "metadata": {},
   "source": [
    "### 3.3 - Read a file\n",
    "#### Note : The keys and variables may differ depending on the selected file."
   ]
  },
  {
   "cell_type": "code",
   "execution_count": null,
   "metadata": {},
   "outputs": [],
   "source": [
    "import netCDF4\n",
    "from netCDF4 import Dataset\n",
    "nc =  Dataset(filename, 'r')"
   ]
  },
  {
   "cell_type": "code",
   "execution_count": null,
   "metadata": {},
   "outputs": [],
   "source": [
    "print('Keys :  ' + str(nc.variables.keys()) + '\\n')\n",
    "\n",
    "print(\"Content of 'time' variable :\\n\" + str(nc.variables['time']))"
   ]
  },
  {
   "cell_type": "markdown",
   "metadata": {},
   "source": [
    "### 3.4 - Create a chart"
   ]
  },
  {
   "cell_type": "code",
   "execution_count": null,
   "metadata": {},
   "outputs": [],
   "source": [
    "import calendar\n",
    "import pandas as pd \n",
    "from datetime import datetime, timedelta\n",
    "import numpy as np\n",
    "import matplotlib.pyplot as plt \n",
    "\n",
    "times = nc.variables['time'][:]\n",
    "lons = nc.variables['lon'][:]\n",
    "lats = nc.variables['lat'][:]\n",
    "values = nc.variables['tas'][:]\n",
    "\n",
    "start_time = datetime.strptime('1859-12-01', '%Y-%m-%d') #See unit in time variable\n",
    " \n",
    "df = pd.DataFrame(index = [calendar.month_abbr[i] for i in range(1,13)])\n",
    " \n",
    "for i in range(len(times)):\n",
    "    dt_time = start_time + timedelta(days=times[i])  \n",
    "    data = values[i]\n",
    "    mean = np.mean(data)    \n",
    "    df.at[calendar.month_abbr[dt_time.month], dt_time.year] = mean - 273.15\n",
    "\n",
    "\n",
    "df1 = df[[2005, 2010, 2015, 2020, 2025]]\n",
    "ax = df1.plot.bar(rot=0, figsize=(12, 6))\n",
    "ax.set_ylim(np.amin(np.amin(df1)), np.amax(np.amax(df1)))\n",
    "\n",
    "plt.title(nc.variables['tas'].long_name)\n",
    "plt.ylabel('°C')\n",
    "plt.legend()\n",
    "plt.show()"
   ]
  },
  {
   "cell_type": "markdown",
   "metadata": {},
   "source": [
    "## 4 - Satellite observations"
   ]
  },
  {
   "cell_type": "markdown",
   "metadata": {},
   "source": [
    "### 4.1 - Create a data folder"
   ]
  },
  {
   "cell_type": "code",
   "execution_count": null,
   "metadata": {},
   "outputs": [],
   "source": [
    "#Get the destination folder path\n",
    "folder = '/home/jovyan/work/c3s_data/c3s_NetCDF_examples/03_Satellite_observations'\n",
    "\n",
    "import os \n",
    "\n",
    "#Create the folder if it doesn't exist\n",
    "if not os.path.exists(folder):\n",
    "    os.makedirs(folder)\n",
    "\n",
    "zip_file = folder + '/sea_ice_concentration'"
   ]
  },
  {
   "cell_type": "markdown",
   "metadata": {},
   "source": [
    "### 4.2 - Download a file\n",
    "#### TO DO : Check you agree with the __[Terms of Use](https://cds.climate.copernicus.eu/cdsapp#!/dataset/satellite-sea-ice?tab=form)__ (Last section)\n",
    "#### Note : Please, go to https://cds.climate.copernicus.eu/cdsapp#!/yourrequests to track the progress of your request"
   ]
  },
  {
   "cell_type": "code",
   "execution_count": null,
   "metadata": {},
   "outputs": [],
   "source": [
    "import cdsapi\n",
    "\n",
    "c = cdsapi.Client()\n",
    "\n",
    "years = [\n",
    "    '1998', '1999','2000',\n",
    "    '2001','2002','2003',\n",
    "    '2004','2005','2006',\n",
    "    '2007','2008','2009',\n",
    "    '2010','2012','2013', \n",
    "    '2014','2015','2016',\n",
    "    '2017','2018'\n",
    "]\n",
    "\n",
    "c.retrieve(\n",
    "    'satellite-sea-ice',\n",
    "    {\n",
    "        'format':'zip',\n",
    "        'year': years,\n",
    "        'month':['03'\n",
    "        ],\n",
    "        'variable':'sea_ice_concentration',\n",
    "        'region':'north_hemisphere',\n",
    "        'day':'01'\n",
    "    },\n",
    "    zip_file)"
   ]
  },
  {
   "cell_type": "markdown",
   "metadata": {},
   "source": [
    "### 4.3 - Unzip the file"
   ]
  },
  {
   "cell_type": "code",
   "execution_count": null,
   "metadata": {},
   "outputs": [],
   "source": [
    "import zipfile\n",
    "\n",
    "zip = zipfile.ZipFile(zip_file)\n",
    "zip.extractall(folder)"
   ]
  },
  {
   "cell_type": "markdown",
   "metadata": {},
   "source": [
    "### 4.4 - Display a map"
   ]
  },
  {
   "cell_type": "markdown",
   "metadata": {},
   "source": [
    "#### Note: The files must be in NetCDF format"
   ]
  },
  {
   "cell_type": "code",
   "execution_count": null,
   "metadata": {},
   "outputs": [],
   "source": [
    "import os\n",
    "os.environ[\"PROJ_LIB\"] = \"/opt/conda/share/proj\";\n",
    "\n",
    "from IPython.display import Image\n",
    "import pygrib \n",
    "import numpy as np\n",
    "import ipywidgets as widgets\n",
    "\n",
    "from matplotlib.pyplot import figure\n",
    "from mpl_toolkits.basemap import Basemap\n",
    "import matplotlib.pyplot as plt\n",
    "import imageio\n",
    "import netCDF4\n",
    "from netCDF4 import Dataset\n",
    "from datetime import datetime, timedelta\n",
    "import glob\n",
    "\n",
    "start_time = datetime.strptime('1978-01-01 00:00:00', '%Y-%m-%d  %H:%M:%S')\n",
    "dt_times = []\n",
    "\n",
    "files = glob.glob( folder + \"/*.nc*\")\n",
    "files.sort()\n",
    "images = []\n",
    "\n",
    "i=0\n",
    "for f in files:\n",
    "    # Open a NetCDF file\n",
    "    nc = Dataset(f, \"r\")\n",
    "\n",
    "    param = 'ice_conc' \n",
    "\n",
    "    lats = nc.variables['lat'][:]  \n",
    "    lons = nc.variables['lon'][:]\n",
    "    times = nc.variables['time'][:]\n",
    "    data = nc.variables[param][:]  \n",
    "\n",
    "    unit = nc.variables[param].units\n",
    "    param_name = nc.variables[param].long_name\n",
    "\n",
    "    dt_times.append(start_time + timedelta(seconds=times[0]) )\n",
    "\n",
    "    vmin = np.amin(data[0])\n",
    "    vmax = np.amax(data[0])\n",
    "\n",
    "    # Create and save a figure for each step\n",
    "    figure(num=None, figsize=(16, 10))\n",
    "\n",
    "    #Create a map\n",
    "    m = Basemap(width=10000000,height=8000000,\n",
    "                projection='laea',lat_ts=50,lat_0=90,lon_0=0.0)\n",
    "\n",
    "    m.drawcoastlines()\n",
    "    m.drawcountries()\n",
    "\n",
    "    x,y = m(lons, lats)\n",
    "\n",
    "    C = data[0]\n",
    "\n",
    "    #Colour the map \n",
    "    m.pcolormesh(x, y, C, vmin=vmin, vmax = vmax, cmap=plt.cm.Blues_r)\n",
    "    m.colorbar(label = unit) \n",
    "\n",
    "    plt.title(param_name + ' date: ' + dt_times[i].strftime('%Y-%m-%d  %H:%M:%S')) \n",
    "    #Save the figure\n",
    "    plt.savefig(os.path.join(folder, 'sea_ice_' + str(i) + '.png'))\n",
    "    plt.close()\n",
    "    \n",
    "    images.append(imageio.imread(os.path.join(folder, 'sea_ice_' + str(i) + '.png')))\n",
    "                  \n",
    "    i+=1\n",
    "\n",
    "result_filename = \"sea_ice_result.gif\"\n",
    "\n",
    "#Create a GIF\n",
    "imageio.mimsave(os.path.join(folder, result_filename), images, 'GIF', duration=0.3)\n",
    "\n",
    "display(Image(os.path.join(folder, result_filename)))"
   ]
  },
  {
   "cell_type": "markdown",
   "metadata": {},
   "source": [
    "### 4.5 - Create a chart"
   ]
  },
  {
   "cell_type": "code",
   "execution_count": null,
   "metadata": {},
   "outputs": [],
   "source": [
    "fig = figure(num=None, figsize=(14, 8))\n",
    "\n",
    "# ys = [int(i) for i in years]\n",
    "ax = fig.add_subplot(1, 1, 1)\n",
    "\n",
    "#For each year, plot the data\n",
    "means = []\n",
    "for year in years:\n",
    "    nc = Dataset(glob.glob( folder + \"/*\" + year + \"*.nc*\")[0], \"r\")\n",
    "\n",
    "    unit = nc.variables['ice_conc'].units\n",
    "    param_name = nc.variables['ice_conc'].long_name\n",
    "\n",
    "    means.append(np.mean(nc.variables['ice_conc'][:][0]))\n",
    "\n",
    "\n",
    "ax.set_ylim(np.amin(means), np.amax(means))\n",
    "\n",
    "plt.bar(range(len(means)), means, alpha=0.5)\n",
    "\n",
    "plt.title(param_name)\n",
    "plt.xticks(range(len(means)), years)\n",
    "plt.ylabel(unit)\n",
    "\n",
    "plt.show()"
   ]
  },
  {
   "cell_type": "markdown",
   "metadata": {},
   "source": [
    "## 5 - Sectoral climate indices"
   ]
  },
  {
   "cell_type": "markdown",
   "metadata": {},
   "source": [
    "### 5.1 - Create a data folder"
   ]
  },
  {
   "cell_type": "code",
   "execution_count": null,
   "metadata": {},
   "outputs": [],
   "source": [
    "#Get the destination folder path\n",
    "folder = '/home/jovyan/work/c3s_data/c3s_NetCDF_examples/05_Sectoral climate indicess'\n",
    "\n",
    "import os \n",
    "\n",
    "#Create the folder if it doesn't exist\n",
    "if not os.path.exists(folder):\n",
    "    os.makedirs(folder)\n",
    "\n",
    "filename = folder + '/water_quantity' #Give a name to your file"
   ]
  },
  {
   "cell_type": "markdown",
   "metadata": {},
   "source": [
    "### 5.3 - Download a file\n",
    "#### TO DO : Check you agree with the  __[Terms of Use](https://cds.climate.copernicus.eu/cdsapp#!/dataset/sis-water-quantity-swicca?tab=form)__ (Last section)\n",
    "#### Note : Please, go to https://cds.climate.copernicus.eu/cdsapp#!/yourrequests to track the progress of your request"
   ]
  },
  {
   "cell_type": "code",
   "execution_count": null,
   "metadata": {},
   "outputs": [],
   "source": [
    "import cdsapi\n",
    "\n",
    "c = cdsapi.Client()\n",
    "\n",
    "c.retrieve(\n",
    "    'sis-water-quantity-swicca',\n",
    "    {\n",
    "        'format':'zip',\n",
    "        'variable':'wetness_1',\n",
    "        'emissions_scenario':'rcp_8_5',\n",
    "        'time_aggregation':'30_year_average',\n",
    "        'period':'2011_2040',\n",
    "        'horizontal_resolution':'0_5'\n",
    "    },\n",
    "    filename)"
   ]
  },
  {
   "cell_type": "markdown",
   "metadata": {},
   "source": [
    "### 5.4 - Display a map"
   ]
  },
  {
   "cell_type": "code",
   "execution_count": null,
   "metadata": {},
   "outputs": [],
   "source": [
    "import netCDF4\n",
    "from netCDF4 import Dataset\n",
    "nc =  Dataset(filename, 'r')\n",
    "import matplotlib.colors as colors\n",
    "import numpy.ma as ma\n",
    "\n",
    "# Open a NetCDF file\n",
    "nc = Dataset(filename, \"r\")\n",
    "\n",
    "lons = nc.variables['lon'][:]  \n",
    "lats = nc.variables['lat'][:]  \n",
    "times = nc.variables['time'][:]\n",
    "\n",
    "time = datetime.strptime('1951-01-01 00:00:00', '%Y-%m-%d  %H:%M:%S') \\\n",
    "    + timedelta(days =times[0])\n",
    "\n",
    "unit = nc.variables['value1'].units\n",
    "\n",
    "values = ma.array([nc.variables['value'  + str(k) ][:][0]  for k in range(1,13)])\n",
    "\n",
    "figure(num=None, figsize=(16, 10))\n",
    "m = Basemap(llcrnrlon=lons.min(), urcrnrlon=lons.max(),llcrnrlat=lats.min(),urcrnrlat=lats.max())\n",
    "\n",
    "m.drawcoastlines()\n",
    "m.drawcountries()\n",
    "\n",
    "m.pcolormesh(lons, lats, values.mean(axis=0), cmap=plt.cm.jet) \n",
    "\n",
    "m.colorbar(label = unit)\n",
    "\n",
    "plt.title('Wetness 1 ' + time.strftime('%Y-%m-%d  %H:%M:%S'))\n",
    "plt.show()\n"
   ]
  }
 ],
 "metadata": {
  "kernelspec": {
   "display_name": "Python 3",
   "language": "python",
   "name": "python3"
  },
  "language_info": {
   "codemirror_mode": {
    "name": "ipython",
    "version": 3
   },
   "file_extension": ".py",
   "mimetype": "text/x-python",
   "name": "python",
   "nbconvert_exporter": "python",
   "pygments_lexer": "ipython3",
   "version": "3.7.6"
  }
 },
 "nbformat": 4,
 "nbformat_minor": 2
}
