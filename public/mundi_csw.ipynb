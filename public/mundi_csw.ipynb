{
 "cells": [
  {
   "cell_type": "code",
   "execution_count": 1,
   "metadata": {},
   "outputs": [],
   "source": [
    "import sys\n",
    "sys.path.append(\"/home/jovyan/lib\") "
   ]
  },
  {
   "cell_type": "code",
   "execution_count": 2,
   "metadata": {},
   "outputs": [],
   "source": [
    "from mundilib import mundiCatalogue"
   ]
  },
  {
   "cell_type": "code",
   "execution_count": 3,
   "metadata": {},
   "outputs": [],
   "source": [
    "# other tools\n",
    "import pandas as pd"
   ]
  },
  {
   "cell_type": "markdown",
   "metadata": {},
   "source": [
    "### Service end point - identification"
   ]
  },
  {
   "cell_type": "code",
   "execution_count": 4,
   "metadata": {},
   "outputs": [],
   "source": [
    "# 'global' csw service\n",
    "#c = mundiCatalogue()\n",
    "#csw = c.mundi_csw()"
   ]
  },
  {
   "cell_type": "code",
   "execution_count": 5,
   "metadata": {},
   "outputs": [],
   "source": [
    "c = mundiCatalogue()\n",
    "csw = c.getCollection(\"Sentinel1\").mundi_csw()"
   ]
  },
  {
   "cell_type": "code",
   "execution_count": 6,
   "metadata": {},
   "outputs": [
    {
     "name": "stdout",
     "output_type": "stream",
     "text": [
      "Type:    CSW\n",
      "Version: 2.0.2\n",
      "\n",
      "----- Error occured -----\n",
      "must be str, not NoneType\n"
     ]
    }
   ],
   "source": [
    "try:\n",
    "    print(\"Type:    \" + csw.identification.type)\n",
    "    print(\"Version: \" + csw.identification.version)\n",
    "    print(\"Service: \" + csw.identification.title)\n",
    "except Exception as e:\n",
    "    print (\"\\n----- Error occured -----\\n\" + str(e))"
   ]
  },
  {
   "cell_type": "code",
   "execution_count": 7,
   "metadata": {},
   "outputs": [
    {
     "data": {
      "text/plain": [
       "<mundilib.mundiCatalogueServiceWeb at 0x7f0f0c450e10>"
      ]
     },
     "execution_count": 7,
     "metadata": {},
     "output_type": "execute_result"
    }
   ],
   "source": [
    "csw"
   ]
  },
  {
   "cell_type": "code",
   "execution_count": 8,
   "metadata": {},
   "outputs": [
    {
     "data": {
      "text/plain": [
       "'2.0.2'"
      ]
     },
     "execution_count": 8,
     "metadata": {},
     "output_type": "execute_result"
    }
   ],
   "source": [
    "csw.version"
   ]
  },
  {
   "cell_type": "code",
   "execution_count": 9,
   "metadata": {},
   "outputs": [
    {
     "name": "stdout",
     "output_type": "stream",
     "text": [
      "None\n",
      "['Optical', 'Earth Observation']\n",
      "diasadmin\n",
      "DIAS CWS\n",
      "https://catalog-browse.default.mundiwebservices.com/acdc/catalog/proxy\n",
      "diasadmin\n",
      "None\n"
     ]
    }
   ],
   "source": [
    "print (csw.identification.abstract)\n",
    "print (csw.identification.keywords)\n",
    "print (csw.provider.contact.name)\n",
    "print (csw.provider.name)\n",
    "print (csw.provider.url)\n",
    "print (csw.provider.contact.name)\n",
    "print (csw.provider.contact.city)"
   ]
  },
  {
   "cell_type": "code",
   "execution_count": 10,
   "metadata": {},
   "outputs": [
    {
     "name": "stdout",
     "output_type": "stream",
     "text": [
      "getCollection\n",
      "getCollections\n",
      "osdd\n"
     ]
    }
   ],
   "source": [
    "for d in dir(c):\n",
    "    if \"_\" not in d:\n",
    "        print (d)"
   ]
  },
  {
   "cell_type": "code",
   "execution_count": 11,
   "metadata": {},
   "outputs": [],
   "source": [
    "#for d in dir(csw):\n",
    "#    if \"_\" not in d:\n",
    "#        print (d)"
   ]
  },
  {
   "cell_type": "code",
   "execution_count": 12,
   "metadata": {},
   "outputs": [
    {
     "name": "stdout",
     "output_type": "stream",
     "text": [
      "{'matches': 3279525, 'returned': 1, 'nextrecord': 2}\n"
     ]
    }
   ],
   "source": [
    "# getting one record\n",
    "csw.getrecords2(maxrecords=1)\n",
    "print (csw.results)"
   ]
  },
  {
   "cell_type": "code",
   "execution_count": 13,
   "metadata": {},
   "outputs": [
    {
     "name": "stdout",
     "output_type": "stream",
     "text": [
      "S1A_IW_RAW__0SDV_20180624T143249_20180624T143321_022500_026FDB_4C44\n",
      "dataset\n",
      "None\n",
      "SAFE\n"
     ]
    }
   ],
   "source": [
    "# information on record\n",
    "try:\n",
    "    for record in csw.records:\n",
    "        print (csw.records[record].title)\n",
    "        print (csw.records[record].type)\n",
    "        print (csw.records[record].date)\n",
    "        print (csw.records[record].format)     \n",
    "except Exception as e:\n",
    "    print (\"\\n----- Error occured -----\\n\" + str(e))"
   ]
  },
  {
   "cell_type": "markdown",
   "metadata": {},
   "source": [
    "### Usage"
   ]
  },
  {
   "cell_type": "markdown",
   "metadata": {},
   "source": [
    "#### How to request 'GetRecordById'"
   ]
  },
  {
   "cell_type": "code",
   "execution_count": 14,
   "metadata": {},
   "outputs": [
    {
     "data": {
      "text/plain": [
       "'S2A_MSIL1C_20180615T100031_N0206_R122_T33TTG_20180615T120427'"
      ]
     },
     "execution_count": 14,
     "metadata": {},
     "output_type": "execute_result"
    }
   ],
   "source": [
    "# How to call the following 'GetRecordById' request example:\n",
    "# https://mundiwebservices.com/acdc/catalog/proxy/search/global/csw?service=CSW&request=GetRecordById\n",
    "# &id=S2A_MSIL1C_20180615T100031_N0206_R122_T33TTG_20180615T120427&ElementSetName=full\n",
    "\n",
    "# creation of 'csw' on collection\n",
    "csw_S2 = c.getCollection(\"Sentinel2\").mundi_csw()\n",
    "\n",
    "# parameters\n",
    "_id_  = \"S2A_MSIL1C_20180615T100031_N0206_R122_T33TTG_20180615T120427\"\n",
    "_esn_ = \"full\"\n",
    "\n",
    "# call service\n",
    "csw_S2.getrecordbyid([_id_], _esn_)\n",
    "\n",
    "# access requested record\n",
    "csw_S2.records[\"S2A_MSIL1C_20180615T100031_N0206_R122_T33TTG_20180615T120427\"].title\n"
   ]
  },
  {
   "cell_type": "markdown",
   "metadata": {},
   "source": [
    "#### How to display 'csw:Record' content"
   ]
  },
  {
   "cell_type": "code",
   "execution_count": 15,
   "metadata": {},
   "outputs": [
    {
     "data": {
      "text/html": [
       "<div>\n",
       "<style scoped>\n",
       "    .dataframe tbody tr th:only-of-type {\n",
       "        vertical-align: middle;\n",
       "    }\n",
       "\n",
       "    .dataframe tbody tr th {\n",
       "        vertical-align: top;\n",
       "    }\n",
       "\n",
       "    .dataframe thead th {\n",
       "        text-align: right;\n",
       "    }\n",
       "</style>\n",
       "<table border=\"1\" class=\"dataframe\">\n",
       "  <thead>\n",
       "    <tr style=\"text-align: right;\">\n",
       "      <th></th>\n",
       "      <th>attribute value</th>\n",
       "    </tr>\n",
       "  </thead>\n",
       "  <tbody>\n",
       "    <tr>\n",
       "      <th>abstract</th>\n",
       "      <td>name: S2A_MSIL1C_20180615T100031_N0206_R122_T33TTG_20180615T120427}</td>\n",
       "    </tr>\n",
       "    <tr>\n",
       "      <th>accessrights</th>\n",
       "      <td>None</td>\n",
       "    </tr>\n",
       "    <tr>\n",
       "      <th>alternative</th>\n",
       "      <td>None</td>\n",
       "    </tr>\n",
       "    <tr>\n",
       "      <th>bbox</th>\n",
       "      <td>&lt;owslib.ows.BoundingBox object at 0x7f0f0b60d358&gt;</td>\n",
       "    </tr>\n",
       "    <tr>\n",
       "      <th>contributor</th>\n",
       "      <td>None</td>\n",
       "    </tr>\n",
       "    <tr>\n",
       "      <th>coverage</th>\n",
       "      <td>None</td>\n",
       "    </tr>\n",
       "    <tr>\n",
       "      <th>created</th>\n",
       "      <td>None</td>\n",
       "    </tr>\n",
       "    <tr>\n",
       "      <th>creator</th>\n",
       "      <td>dhus</td>\n",
       "    </tr>\n",
       "    <tr>\n",
       "      <th>date</th>\n",
       "      <td>None</td>\n",
       "    </tr>\n",
       "    <tr>\n",
       "      <th>format</th>\n",
       "      <td>SAFE</td>\n",
       "    </tr>\n",
       "    <tr>\n",
       "      <th>identifier</th>\n",
       "      <td>S2A_MSIL1C_20180615T100031_N0206_R122_T33TTG_20180615T120427</td>\n",
       "    </tr>\n",
       "    <tr>\n",
       "      <th>identifiers</th>\n",
       "      <td>{'scheme': None, 'identifier': 'S2A_MSIL1C_20180615T100031_N0206_R122_T33TTG_20180615T120427'}</td>\n",
       "    </tr>\n",
       "    <tr>\n",
       "      <th>ispartof</th>\n",
       "      <td>None</td>\n",
       "    </tr>\n",
       "    <tr>\n",
       "      <th>issued</th>\n",
       "      <td>None</td>\n",
       "    </tr>\n",
       "    <tr>\n",
       "      <th>language</th>\n",
       "      <td>eng</td>\n",
       "    </tr>\n",
       "    <tr>\n",
       "      <th>license</th>\n",
       "      <td>None</td>\n",
       "    </tr>\n",
       "    <tr>\n",
       "      <th>modified</th>\n",
       "      <td>2018-06-15T10:00:31Z</td>\n",
       "    </tr>\n",
       "    <tr>\n",
       "      <th>publisher</th>\n",
       "      <td>None</td>\n",
       "    </tr>\n",
       "    <tr>\n",
       "      <th>rdf</th>\n",
       "      <td>False</td>\n",
       "    </tr>\n",
       "    <tr>\n",
       "      <th>references</th>\n",
       "      <td>[]</td>\n",
       "    </tr>\n",
       "    <tr>\n",
       "      <th>relation</th>\n",
       "      <td>None</td>\n",
       "    </tr>\n",
       "    <tr>\n",
       "      <th>rights</th>\n",
       "      <td>[]</td>\n",
       "    </tr>\n",
       "    <tr>\n",
       "      <th>rightsholder</th>\n",
       "      <td>None</td>\n",
       "    </tr>\n",
       "    <tr>\n",
       "      <th>source</th>\n",
       "      <td>None</td>\n",
       "    </tr>\n",
       "    <tr>\n",
       "      <th>spatial</th>\n",
       "      <td>urn:ogc:def:crs:EPSG:6.3:4326</td>\n",
       "    </tr>\n",
       "    <tr>\n",
       "      <th>subjects</th>\n",
       "      <td>imagery</td>\n",
       "    </tr>\n",
       "    <tr>\n",
       "      <th>temporal</th>\n",
       "      <td>None</td>\n",
       "    </tr>\n",
       "    <tr>\n",
       "      <th>title</th>\n",
       "      <td>S2A_MSIL1C_20180615T100031_N0206_R122_T33TTG_20180615T120427</td>\n",
       "    </tr>\n",
       "    <tr>\n",
       "      <th>type</th>\n",
       "      <td>dataset</td>\n",
       "    </tr>\n",
       "    <tr>\n",
       "      <th>uris</th>\n",
       "      <td>[]</td>\n",
       "    </tr>\n",
       "  </tbody>\n",
       "</table>\n",
       "</div>"
      ],
      "text/plain": [
       "                                                                                             attribute value\n",
       "abstract                                 name: S2A_MSIL1C_20180615T100031_N0206_R122_T33TTG_20180615T120427}\n",
       "accessrights                                                                                            None\n",
       "alternative                                                                                             None\n",
       "bbox                                                       <owslib.ows.BoundingBox object at 0x7f0f0b60d358>\n",
       "contributor                                                                                             None\n",
       "coverage                                                                                                None\n",
       "created                                                                                                 None\n",
       "creator                                                                                                 dhus\n",
       "date                                                                                                    None\n",
       "format                                                                                                  SAFE\n",
       "identifier                                      S2A_MSIL1C_20180615T100031_N0206_R122_T33TTG_20180615T120427\n",
       "identifiers   {'scheme': None, 'identifier': 'S2A_MSIL1C_20180615T100031_N0206_R122_T33TTG_20180615T120427'}\n",
       "ispartof                                                                                                None\n",
       "issued                                                                                                  None\n",
       "language                                                                                                 eng\n",
       "license                                                                                                 None\n",
       "modified                                                                                2018-06-15T10:00:31Z\n",
       "publisher                                                                                               None\n",
       "rdf                                                                                                    False\n",
       "references                                                                                                []\n",
       "relation                                                                                                None\n",
       "rights                                                                                                    []\n",
       "rightsholder                                                                                            None\n",
       "source                                                                                                  None\n",
       "spatial                                                                        urn:ogc:def:crs:EPSG:6.3:4326\n",
       "subjects                                                                                             imagery\n",
       "temporal                                                                                                None\n",
       "title                                           S2A_MSIL1C_20180615T100031_N0206_R122_T33TTG_20180615T120427\n",
       "type                                                                                                 dataset\n",
       "uris                                                                                                      []"
      ]
     },
     "execution_count": 15,
     "metadata": {},
     "output_type": "execute_result"
    }
   ],
   "source": [
    "def dictofattr(obj):\n",
    "    d = {}\n",
    "    for attr in dir(obj):\n",
    "        if \"_\" not in attr and attr != \"xml\":\n",
    "            if getattr(obj, attr) != []:\n",
    "                d[attr] = getattr(obj, attr)\n",
    "            else:\n",
    "                d[attr] = \"[]\"\n",
    "    return d\n",
    "\n",
    "# list some attribute/value of the record (panda table)\n",
    "d = dictofattr(csw_S2.records[\"S2A_MSIL1C_20180615T100031_N0206_R122_T33TTG_20180615T120427\"])\n",
    "df = pd.DataFrame(d, index=['attribute value'])\n",
    "pd.set_option('max_colwidth', 200)\n",
    "df.T"
   ]
  },
  {
   "cell_type": "markdown",
   "metadata": {},
   "source": [
    "#### How to request 'GetRecords'"
   ]
  },
  {
   "cell_type": "code",
   "execution_count": 16,
   "metadata": {},
   "outputs": [
    {
     "name": "stdout",
     "output_type": "stream",
     "text": [
      "Number of matched results : 1478\n",
      "Number of dataset records: 1478\n",
      "Size of dataset records : 4597.82 TB\n"
     ]
    }
   ],
   "source": [
    "# creation of 'csw' on collection\n",
    "csw_S1 = c.getCollection(\"Sentinel1\").mundi_csw()\n",
    "\n",
    "# payload\n",
    "xml_string='''\n",
    "<?xml version='1.0'?>\n",
    "<GetRecords xmlns='http://www.opengis.net/cat/csw/2.0.2'\n",
    "    xmlns:DIAS='http://tas/DIAS'\n",
    "    xmlns:csw='http://www.opengis.net/cat/csw/2.0.2'\n",
    "    xmlns:dc='http://purl.org/dc/elements/1.1/'\n",
    "    xmlns:dct='http://purl.org/dc/terms/'\n",
    "    xmlns:gml='http://www.opengis.net/gml'\n",
    "    xmlns:ogc='http://www.opengis.net/ogc'\n",
    "    xmlns:ows='http://www.opengis.net/ows'\n",
    "    xmlns:xsi='http://www.w3.org/2001/XMLSchema-instance'\n",
    "    service='CSW' version='2.0.2' maxRecords='50' startPosition='1' resultType='results'\n",
    "    outputFormat='application/xml' outputSchema='csw:Record' xsi:schemaLocation='http://www.opengis.net/cat/csw/2.0.2/CSW-discovery.xsd'>\n",
    "    <csw:Query typeNames='csw:Record'>\n",
    "        <csw:ElementSetName>brief</csw:ElementSetName>\n",
    "        <csw:ElementName>dc:identifier</csw:ElementName>\n",
    "        <csw:ElementName>DIAS:productDatapackSize</csw:ElementName>\n",
    "        <csw:Constraint version='1.1.0'>\n",
    "            <csw:CqlText> ((DIAS:onlineStatus = 'STAGING') or (DIAS:onlineStatus = 'ONLINE')) \n",
    "                            and (DIAS:ingestionDate &gt;= '2018-11-01T00:00:00Z')\n",
    "                            and (DIAS:ingestionDate &lt;= '2018-11-01T23:59:59Z')\n",
    "            </csw:CqlText>\n",
    "        </csw:Constraint>\n",
    "    </csw:Query>\n",
    "</GetRecords>'''\n",
    "\n",
    "nb = csw_S1.mundigetnbrecords2(xml=xml_string)\n",
    "print (\"Number of matched results : \" + str(nb))                                      \n",
    "\n",
    "csw_S1.mundigetrecords2(xml=xml_string)\n",
    "print (\"Number of dataset records: %d\" %(len(csw_S1.records)))\n",
    "\n",
    "size = csw_S1.mundigetvolrecords2(xml=xml_string)\n",
    "print (\"Size of dataset records : \" + str(size) + \" TB\")\n"
   ]
  },
  {
   "cell_type": "markdown",
   "metadata": {},
   "source": [
    "#### How to get attribute from records"
   ]
  },
  {
   "cell_type": "code",
   "execution_count": 17,
   "metadata": {},
   "outputs": [
    {
     "name": "stdout",
     "output_type": "stream",
     "text": [
      "S1B_IW_GRDH_1SSH_20181021T141350_20181021T141415_013251_0187F8_6A42\t8.55333952E8\n",
      "S1A_IW_GRDH_1SDV_20181021T154415_20181021T154439_024236_02A6D7_F209\t1.632087552E9\n",
      "S1B_IW_GRDH_1SDV_20181021T180500_20181021T180525_013254_018809_3BA8\t1.750199168E9\n",
      "S1A_IW_GRDH_1SDV_20181021T185837_20181021T185902_024238_02A6EA_1D55\t1.696512128E9\n",
      "S1B_WV_SLC__1SSV_20181021T140124_20181021T140704_013251_0187F7_6E0F\t2.297807616E9\n"
     ]
    }
   ],
   "source": [
    "from mundilib import findnode\n",
    "\n",
    "for name, cswRecord in list(csw_S1.records.items())[:5]:\n",
    "    node = findnode(cswRecord, \"DIAS:productDatapackSize\")\n",
    "    print (name + \"\\t\" + str(node.text))"
   ]
  },
  {
   "cell_type": "code",
   "execution_count": null,
   "metadata": {},
   "outputs": [],
   "source": []
  }
 ],
 "metadata": {
  "kernelspec": {
   "display_name": "Python 3",
   "language": "python",
   "name": "python3"
  },
  "language_info": {
   "codemirror_mode": {
    "name": "ipython",
    "version": 3
   },
   "file_extension": ".py",
   "mimetype": "text/x-python",
   "name": "python",
   "nbconvert_exporter": "python",
   "pygments_lexer": "ipython3",
   "version": "3.6.6"
  }
 },
 "nbformat": 4,
 "nbformat_minor": 2
}
