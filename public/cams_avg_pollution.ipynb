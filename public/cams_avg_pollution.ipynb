{
 "cells": [
  {
   "cell_type": "markdown",
   "metadata": {},
   "source": [
    "## 1 - Configuration"
   ]
  },
  {
   "cell_type": "code",
   "execution_count": null,
   "metadata": {},
   "outputs": [],
   "source": [
    "import datetime\n",
    "import ipywidgets as widgets\n",
    "import numpy as np\n",
    "import os\n",
    "import urllib\n",
    "import camslib as cl\n",
    "from IPython.display import Image\n",
    "from os import path\n",
    "\n",
    "from IPython.display import clear_output, HTML"
   ]
  },
  {
   "cell_type": "markdown",
   "metadata": {},
   "source": [
    "### 1.1 - SET YOUR ECMWF ACCOUNT (FOR THE AUTHENTIFICATION) "
   ]
  },
  {
   "cell_type": "code",
   "execution_count": null,
   "metadata": {},
   "outputs": [],
   "source": [
    "# For Registration (ECMWF)\n",
    "url_regist='https://apps.ecmwf.int/registration/'  \n",
    "from IPython.core.display import display, HTML\n",
    "display(HTML(f\"\"\"<a href={url_regist}>{'Registration_ECMWF - please click on it'}</a>\"\"\"))"
   ]
  },
  {
   "cell_type": "markdown",
   "metadata": {},
   "source": [
    "### 1.2 - Log in and retrieve your key"
   ]
  },
  {
   "cell_type": "code",
   "execution_count": null,
   "metadata": {},
   "outputs": [],
   "source": [
    "url_login='https://www.ecmwf.int/'  \n",
    "display(HTML(f\"\"\"<a href={url_login}>{'Please login - please click on it'}</a>\"\"\"))\n",
    "\n",
    "url_key='https://api.ecmwf.int/v1/key/'  \n",
    "display(HTML(f\"\"\"<a href={url_key}>{'Retrieve your key - please click on it'}</a>\"\"\"))"
   ]
  },
  {
   "cell_type": "markdown",
   "metadata": {},
   "source": [
    "### 1.3 Configure ECMWFapi"
   ]
  },
  {
   "cell_type": "code",
   "execution_count": null,
   "metadata": {},
   "outputs": [],
   "source": [
    "print('Please enter your key: ')\n",
    "key = input()\n",
    "print('Please enter your email: ')\n",
    "email = input()\n",
    "\n",
    "import os\n",
    "\n",
    "content = '{\\n    \"url\"   : \"https://api.ecmwf.int/v1\",\\n    \"key\"   : \"' + key + '\",\\n    \"email\" : \"' + email + '\"\\n}'\n",
    "\n",
    "#Write content in $HOME/.ecmwfapirc\n",
    "f = open(os.environ[\"HOME\"] + '/ecmwfapirc', 'w')\n",
    "f.write(content)\n",
    "f.close()\n",
    "!mv $HOME/ecmwfapirc $HOME/.ecmwfapirc"
   ]
  },
  {
   "cell_type": "markdown",
   "metadata": {},
   "source": [
    "## 2 - Retrieve a Grib file"
   ]
  },
  {
   "cell_type": "markdown",
   "metadata": {},
   "source": [
    "### 2.1 - Go to the ECMWF interface to see the available parameters\n",
    "#### Choose a dataset, select the desired parameters and then, click on \"View the Mars request\" to see the Python script"
   ]
  },
  {
   "cell_type": "code",
   "execution_count": null,
   "metadata": {},
   "outputs": [],
   "source": [
    "url_datasets='https://confluence.ecmwf.int/display/WEBAPI/Available+ECMWF+Public+Datasets'  \n",
    "display(HTML(f\"\"\"<a href={url_datasets}>{'Available ECMWF Public Datasets - please click on it'}</a>\"\"\"))\n",
    "url_interface='https://apps.ecmwf.int/datasets/'  \n",
    "display(HTML(f\"\"\"<a href={url_interface}>{'ECMWF interface - please click on it'}</a>\"\"\"))"
   ]
  },
  {
   "cell_type": "markdown",
   "metadata": {},
   "source": [
    "### 2.2 - Choose a date and a gaz, the data will be downloaded in the folder dir"
   ]
  },
  {
   "cell_type": "code",
   "execution_count": null,
   "metadata": {},
   "outputs": [],
   "source": [
    "#Get the destination folder path\n",
    "dir = '/home/jovyan/work/cams_data/cams_pollution/'\n",
    "\n",
    "#Create the folder if it doesn't exist\n",
    "if not os.path.exists(dir):\n",
    "    os.makedirs(dir)\n",
    "\n",
    "filename = dir + '/output.grib'"
   ]
  },
  {
   "cell_type": "code",
   "execution_count": null,
   "metadata": {},
   "outputs": [],
   "source": [
    "cl.avg_data_ecmwf(dir,filename)"
   ]
  },
  {
   "cell_type": "markdown",
   "metadata": {},
   "source": [
    "## 3 - Display a map"
   ]
  },
  {
   "cell_type": "code",
   "execution_count": null,
   "metadata": {},
   "outputs": [],
   "source": [
    "display(Image(path.join(dir, 'result_avg.png')))"
   ]
  }
 ],
 "metadata": {
  "kernelspec": {
   "display_name": "Python 3",
   "language": "python",
   "name": "python3"
  },
  "language_info": {
   "codemirror_mode": {
    "name": "ipython",
    "version": 3
   },
   "file_extension": ".py",
   "mimetype": "text/x-python",
   "name": "python",
   "nbconvert_exporter": "python",
   "pygments_lexer": "ipython3",
   "version": "3.7.7"
  }
 },
 "nbformat": 4,
 "nbformat_minor": 4
}
