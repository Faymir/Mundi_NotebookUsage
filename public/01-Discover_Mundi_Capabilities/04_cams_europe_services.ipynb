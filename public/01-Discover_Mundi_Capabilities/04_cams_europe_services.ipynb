{
 "cells": [
  {
   "cell_type": "markdown",
   "metadata": {},
   "source": [
    "<img src='https://mundiwebservices.com/build/assets/Mundi-Logo-CMYK-colors.png'  align='left' width='15%' ></img>  "
   ]
  },
  {
   "cell_type": "markdown",
   "metadata": {},
   "source": [
    "# CAMS: Europe Services\n",
    "\n",
    "### CAMS account authentication"
   ]
  },
  {
   "cell_type": "code",
   "execution_count": 1,
   "metadata": {},
   "outputs": [
    {
     "data": {
      "text/html": [
       "<a href=https://data.regional.atmosphere.copernicus.eu/openwis-user-portal/srv/en/user.register.get>Please click here to registrate with CAMS</a>"
      ],
      "text/plain": [
       "<IPython.core.display.HTML object>"
      ]
     },
     "metadata": {},
     "output_type": "display_data"
    }
   ],
   "source": [
    "from IPython.core.display import display, HTML\n",
    "\n",
    "url_cams = 'https://data.regional.atmosphere.copernicus.eu/openwis-user-portal/srv/en/user.register.get'\n",
    "display(HTML(f\"\"\"<a href={url_cams}>{'Please click here to registrate with CAMS'}</a>\"\"\"))"
   ]
  },
  {
   "cell_type": "markdown",
   "metadata": {},
   "source": [
    "### Credentials\n",
    "\n",
    "Enter your username and your password in order to get your token"
   ]
  },
  {
   "cell_type": "code",
   "execution_count": 2,
   "metadata": {},
   "outputs": [],
   "source": [
    "cams_username = '<your CAMS username goes here>'\n",
    "cams_password = '<your CAMS password goes here>'"
   ]
  },
  {
   "cell_type": "markdown",
   "metadata": {},
   "source": [
    "### Retrieve your API token\n",
    "\n",
    "This token is required to use CAMS API.\n",
    "\n",
    "#### Important Notice\n",
    "\n",
    "_getToken_ function returns a token even when wrong credentials are provided. If next cells do not work, make sure above credentials are OK and the returned token actually grants access to CAMS API."
   ]
  },
  {
   "cell_type": "code",
   "execution_count": 3,
   "metadata": {},
   "outputs": [
    {
     "name": "stdout",
     "output_type": "stream",
     "text": [
      "Your token is : __cOa0cZqElfg3uSkegnAiAMXEQf3QmcRcH57BT6dwxQpK7qrregScFRTstuwtvPsU__\n"
     ]
    }
   ],
   "source": [
    "import camslib\n",
    "\n",
    "token = camslib.getToken(cams_username, cams_password)\n",
    "\n",
    "print(f'Your token is : {token}')"
   ]
  },
  {
   "cell_type": "markdown",
   "metadata": {},
   "source": [
    "Choose your parameters"
   ]
  },
  {
   "cell_type": "code",
   "execution_count": 4,
   "metadata": {},
   "outputs": [
    {
     "data": {
      "text/html": [
       "<a href=http://macc-raq-op.meteo.fr/doc/USER_GUIDE_INSPIRE_WebSERVICES.pdf>For more information about CAMS services, please click here</a>"
      ],
      "text/plain": [
       "<IPython.core.display.HTML object>"
      ]
     },
     "metadata": {},
     "output_type": "display_data"
    },
    {
     "data": {
      "application/vnd.jupyter.widget-view+json": {
       "model_id": "db1956e32c094dd6a24c0c08ee94b413",
       "version_major": 2,
       "version_minor": 0
      },
      "text/plain": [
       "Dropdown(description='Method:', options=('FORECAST', 'ANALYSIS'), value='FORECAST')"
      ]
     },
     "metadata": {},
     "output_type": "display_data"
    },
    {
     "data": {
      "application/vnd.jupyter.widget-view+json": {
       "model_id": "be1e90e94c7e46beaec81096b59aadef",
       "version_major": 2,
       "version_minor": 0
      },
      "text/plain": [
       "Dropdown(description='Model:', options=('ENSEMBLE', 'CHIMERE', 'EMEP', 'EURAD', 'LOTOSEUROS', 'MATCH', 'MOCAGE…"
      ]
     },
     "metadata": {},
     "output_type": "display_data"
    }
   ],
   "source": [
    "url_doc = 'http://macc-raq-op.meteo.fr/doc/USER_GUIDE_INSPIRE_WebSERVICES.pdf'\n",
    "display(HTML(f\"<a href={url_doc}>{'For more information about CAMS services, please click here'}</a>\"))\n",
    "\n",
    "import ipywidgets as widgets\n",
    "from IPython.display import display\n",
    "\n",
    "methods_menu = widgets.Dropdown(\n",
    "    options=camslib.methods,\n",
    "    value=camslib.methods[0],\n",
    "    description='Method:',\n",
    "    disabled=False,\n",
    ")\n",
    "\n",
    "models_menu = widgets.Dropdown(\n",
    "    options=camslib.models,\n",
    "    value=camslib.models[0],\n",
    "    description='Model:',\n",
    "    disabled=False,\n",
    ")\n",
    "\n",
    "display(methods_menu, models_menu)"
   ]
  },
  {
   "cell_type": "markdown",
   "metadata": {},
   "source": [
    "## 1 - WMS example"
   ]
  },
  {
   "cell_type": "markdown",
   "metadata": {},
   "source": [
    "### Display data on a map\n",
    "\n",
    "Once parameters are set, click \"Validate\" button to show data on a map."
   ]
  },
  {
   "cell_type": "code",
   "execution_count": 5,
   "metadata": {},
   "outputs": [
    {
     "data": {
      "application/vnd.jupyter.widget-view+json": {
       "model_id": "8121db0c0a054b34a407bdcd2feb1637",
       "version_major": 2,
       "version_minor": 0
      },
      "text/plain": [
       "Dropdown(description='Layer:', options=('BIRCHPOLLEN__GROUND_OR_WATER_SURFACE', 'NO2__SPECIFIC_HEIGHT_LEVEL_AB…"
      ]
     },
     "metadata": {},
     "output_type": "display_data"
    },
    {
     "data": {
      "application/vnd.jupyter.widget-view+json": {
       "model_id": "5e4b7dca303d45a2b3a322984ba5f4f2",
       "version_major": 2,
       "version_minor": 0
      },
      "text/plain": [
       "Dropdown(description='Validity time:', options=('2020-03-06T00:00:00Z', '2020-03-06T01:00:00Z', '2020-03-06T02…"
      ]
     },
     "metadata": {},
     "output_type": "display_data"
    },
    {
     "data": {
      "application/vnd.jupyter.widget-view+json": {
       "model_id": "6dc81b31cd454920b5e19086f83c73bc",
       "version_major": 2,
       "version_minor": 0
      },
      "text/plain": [
       "Dropdown(description='Elevation:', options=(0,), value=0)"
      ]
     },
     "metadata": {},
     "output_type": "display_data"
    },
    {
     "data": {
      "application/vnd.jupyter.widget-view+json": {
       "model_id": "4a853780c0444be0b4ea1fdc2c0d8c7c",
       "version_major": 2,
       "version_minor": 0
      },
      "text/plain": [
       "VBox(children=(Label(value='Choose the image size:'), IntText(value=495, description='Height:'), IntText(value…"
      ]
     },
     "metadata": {},
     "output_type": "display_data"
    },
    {
     "data": {
      "application/vnd.jupyter.widget-view+json": {
       "model_id": "7bbca951b3fe4e87bf419e2fef92d926",
       "version_major": 2,
       "version_minor": 0
      },
      "text/plain": [
       "Label(value='Select a geographical area in Europe:')"
      ]
     },
     "metadata": {},
     "output_type": "display_data"
    },
    {
     "data": {
      "application/vnd.jupyter.widget-view+json": {
       "model_id": "2b58de4ff2114f278899523d19717647",
       "version_major": 2,
       "version_minor": 0
      },
      "text/plain": [
       "Tab(children=(VBox(children=(FloatText(value=-24.95, description='Long min:', step=0.01), FloatText(value=30.0…"
      ]
     },
     "metadata": {},
     "output_type": "display_data"
    },
    {
     "data": {
      "application/vnd.jupyter.widget-view+json": {
       "model_id": "c9d0230e40e242608f1ee2a0f8508261",
       "version_major": 2,
       "version_minor": 0
      },
      "text/plain": [
       "VBox(children=(Button(description='Validate', style=ButtonStyle()), Output()))"
      ]
     },
     "metadata": {},
     "output_type": "display_data"
    }
   ],
   "source": [
    "camslib.cams_wms.displayMap(methods_menu.value, models_menu.value, token)"
   ]
  },
  {
   "cell_type": "markdown",
   "metadata": {},
   "source": [
    "## 2 - WCS example"
   ]
  },
  {
   "cell_type": "markdown",
   "metadata": {},
   "source": [
    "Select parameters, download a GRIB file and display a map"
   ]
  },
  {
   "cell_type": "code",
   "execution_count": 6,
   "metadata": {},
   "outputs": [
    {
     "data": {
      "application/vnd.jupyter.widget-view+json": {
       "model_id": "1cf316d2b4364f018a170561e572d006",
       "version_major": 2,
       "version_minor": 0
      },
      "text/plain": [
       "Dropdown(description='Layer:', options=('CO__SPECIFIC_HEIGHT_LEVEL_ABOVE_GROUND___2020-03-06T00.00.00Z', 'CO__…"
      ]
     },
     "metadata": {},
     "output_type": "display_data"
    },
    {
     "data": {
      "application/vnd.jupyter.widget-view+json": {
       "model_id": "3544f31b8e3f412d9bd9b850d62bf07a",
       "version_major": 2,
       "version_minor": 0
      },
      "text/plain": [
       "Dropdown(description='Validity time:', options=(datetime.datetime(2020, 3, 6, 0, 0), datetime.datetime(2020, 3…"
      ]
     },
     "metadata": {},
     "output_type": "display_data"
    },
    {
     "data": {
      "application/vnd.jupyter.widget-view+json": {
       "model_id": "fffcda049df243cbb18fc7a669d48b1b",
       "version_major": 2,
       "version_minor": 0
      },
      "text/plain": [
       "Dropdown(description='Altitude :', options=('0', '50', '250', '500', '1000', '2000', '3000', '5000'), value='0…"
      ]
     },
     "metadata": {},
     "output_type": "display_data"
    },
    {
     "data": {
      "application/vnd.jupyter.widget-view+json": {
       "model_id": "b09873af72174688bd46ae1a210b0418",
       "version_major": 2,
       "version_minor": 0
      },
      "text/plain": [
       "Label(value='Select a geographical area in Europe:')"
      ]
     },
     "metadata": {},
     "output_type": "display_data"
    },
    {
     "data": {
      "application/vnd.jupyter.widget-view+json": {
       "model_id": "5082fbc56adb46998a94e95b513dc2d9",
       "version_major": 2,
       "version_minor": 0
      },
      "text/plain": [
       "Tab(children=(VBox(children=(FloatText(value=-24.95, description='Long min:', step=0.01), FloatText(value=30.0…"
      ]
     },
     "metadata": {},
     "output_type": "display_data"
    },
    {
     "data": {
      "application/vnd.jupyter.widget-view+json": {
       "model_id": "a2f8c95d7e9f44c0a21f0b4253b29a6f",
       "version_major": 2,
       "version_minor": 0
      },
      "text/plain": [
       "VBox(children=(Button(description='Validate', style=ButtonStyle()), Output()))"
      ]
     },
     "metadata": {},
     "output_type": "display_data"
    }
   ],
   "source": [
    "camslib.cams_wcs.displayMap(methods_menu.value, models_menu.value, token)"
   ]
  },
  {
   "cell_type": "markdown",
   "metadata": {},
   "source": [
    "## 3 - Download packaged data"
   ]
  },
  {
   "cell_type": "markdown",
   "metadata": {},
   "source": [
    "Select parameters, download a GRIB file and display an animated map\n",
    "\n",
    "#### Notes\n",
    "\n",
    "The run time may take about 3-4 minutes\n",
    "\n",
    "Pollen data are available during a specific period depending on the type of pollen."
   ]
  },
  {
   "cell_type": "code",
   "execution_count": 7,
   "metadata": {},
   "outputs": [
    {
     "data": {
      "application/vnd.jupyter.widget-view+json": {
       "model_id": "4777e26e81264528a5b63f7f027b3d5e",
       "version_major": 2,
       "version_minor": 0
      },
      "text/plain": [
       "Dropdown(description='Method:', options=('FORECAST', 'ANALYSIS'), value='FORECAST')"
      ]
     },
     "metadata": {},
     "output_type": "display_data"
    },
    {
     "data": {
      "application/vnd.jupyter.widget-view+json": {
       "model_id": "63544710716348bca021b19cd7e43d96",
       "version_major": 2,
       "version_minor": 0
      },
      "text/plain": [
       "Dropdown(description='Model:', options=('ENSEMBLE', 'CHIMERE', 'EMEP', 'EURAD', 'LOTOSEUROS', 'MATCH', 'MOCAGE…"
      ]
     },
     "metadata": {},
     "output_type": "display_data"
    },
    {
     "data": {
      "application/vnd.jupyter.widget-view+json": {
       "model_id": "3323852f4fe74fcaa9069cfaab44bf79",
       "version_major": 2,
       "version_minor": 0
      },
      "text/plain": [
       "Dropdown(description='Species:', options=('O3', 'CO', 'NH3', 'NO', 'NO2', 'NMVOC', 'PANs', 'PM10', 'PM2.5', 'S…"
      ]
     },
     "metadata": {},
     "output_type": "display_data"
    },
    {
     "data": {
      "application/vnd.jupyter.widget-view+json": {
       "model_id": "1b660a74951948b4b4a8f47cda278058",
       "version_major": 2,
       "version_minor": 0
      },
      "text/plain": [
       "Dropdown(description='Times:', options=('0H24H', '25H48H', '49H72H', '73H96H'), value='0H24H')"
      ]
     },
     "metadata": {},
     "output_type": "display_data"
    },
    {
     "data": {
      "application/vnd.jupyter.widget-view+json": {
       "model_id": "f4757b35400e4deb927202f9413779e5",
       "version_major": 2,
       "version_minor": 0
      },
      "text/plain": [
       "DatePicker(value=datetime.date(2020, 2, 9), description='Date:')"
      ]
     },
     "metadata": {},
     "output_type": "display_data"
    },
    {
     "data": {
      "application/vnd.jupyter.widget-view+json": {
       "model_id": "d4993af214d24a6790a7ad67b86ad503",
       "version_major": 2,
       "version_minor": 0
      },
      "text/plain": [
       "Dropdown(description='Level:', options=(0, 50, 250, 500, 1000, 2000, 3000, 5000), value=0)"
      ]
     },
     "metadata": {},
     "output_type": "display_data"
    },
    {
     "data": {
      "application/vnd.jupyter.widget-view+json": {
       "model_id": "0444a6d7f46745c5a0a8dda0c6f2e038",
       "version_major": 2,
       "version_minor": 0
      },
      "text/plain": [
       "Label(value='Select a geographical area in Europe:')"
      ]
     },
     "metadata": {},
     "output_type": "display_data"
    },
    {
     "data": {
      "application/vnd.jupyter.widget-view+json": {
       "model_id": "273043c66a3d44da982e362234b1534f",
       "version_major": 2,
       "version_minor": 0
      },
      "text/plain": [
       "Tab(children=(VBox(children=(FloatText(value=-24.95, description='Long min:', step=0.01), FloatText(value=30.0…"
      ]
     },
     "metadata": {},
     "output_type": "display_data"
    },
    {
     "data": {
      "application/vnd.jupyter.widget-view+json": {
       "model_id": "255bdeb561484aaba633439809bfff33",
       "version_major": 2,
       "version_minor": 0
      },
      "text/plain": [
       "VBox(children=(Button(description='Validate', style=ButtonStyle()), Output()))"
      ]
     },
     "metadata": {},
     "output_type": "display_data"
    }
   ],
   "source": [
    "camslib.cams_download.displayMap(token)"
   ]
  }
 ],
 "metadata": {
  "kernelspec": {
   "display_name": "Python 3",
   "language": "python",
   "name": "python3"
  },
  "language_info": {
   "codemirror_mode": {
    "name": "ipython",
    "version": 3
   },
   "file_extension": ".py",
   "mimetype": "text/x-python",
   "name": "python",
   "nbconvert_exporter": "python",
   "pygments_lexer": "ipython3",
   "version": "3.7.6"
  }
 },
 "nbformat": 4,
 "nbformat_minor": 4
}
