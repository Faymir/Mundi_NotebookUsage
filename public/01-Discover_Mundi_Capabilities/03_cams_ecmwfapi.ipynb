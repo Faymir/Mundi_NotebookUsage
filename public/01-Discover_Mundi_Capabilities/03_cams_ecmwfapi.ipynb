{
 "cells": [
  {
   "cell_type": "markdown",
   "metadata": {},
   "source": [
    "<img src='https://mundiwebservices.com/build/assets/Mundi-Logo-CMYK-colors.png'  align='left' width='15%' ></img>  "
   ]
  },
  {
   "cell_type": "markdown",
   "metadata": {},
   "source": [
    "## Copernicus Atmosphere Monitoring Service (CAMS)\n",
    "\n",
    "### Near real time data :\n",
    "\n",
    "The Copernicus Atmosphere Monitoring Service (CAMS) created by the European Centre for Medium-Range Weather Forecasts (ECMWF) aims to provide air quality (athmospheric gases, aerosols particles...) data all around the world based on different data source :\n",
    "* Satellite observations such as Sentinel 5P satellite from ESA or ESA-AURA from NASA...\n",
    "* In situ observations based on different locations such as weather station, weather ships or aircrafts...\n",
    "\n",
    "See how it works on the diagram below:"
   ]
  },
  {
   "cell_type": "markdown",
   "metadata": {},
   "source": [
    "<img src='https://atmosphere.copernicus.eu/sites/default/files/inline-images/GOS-fullsize_0.jpg' width='50%' align='left' ></img>"
   ]
  },
  {
   "cell_type": "markdown",
   "metadata": {},
   "source": [
    "The idea of this notebook is to help you discover the power of CAMS by selecting air quality data you want to display on a specific geographical zone, time interval and generating a GIF file representing these data on a map. This notebook is based on the Near real time dataset which provides air quality data near time interval and hours selected without reanalysis made.  "
   ]
  },
  {
   "cell_type": "code",
   "execution_count": null,
   "metadata": {},
   "outputs": [],
   "source": [
    "from camslib import configure_ecmwfapi, setup, download_images, setup_dir, get_projection_map, display_GIF_images, request_ecmwfapi, display_gif_folder\n",
    "import ecmwfapi\n",
    "\n",
    "output_dir = setup_dir()\n",
    "output_filename = setup(output_dir)"
   ]
  },
  {
   "cell_type": "markdown",
   "metadata": {},
   "source": [
    "### 1 - Configure the CAMS API :\n",
    "\n",
    "- 1- To access CAMS data, you have first <a href=\"https://apps.ecmwf.int/registration/\">  to create an account on ECMWF</a>, if it is not already done !\n",
    "- 2- To configure your ECMWFapi, which will give you the ability to access CAMS data, \n",
    "<a href=\"https://api.ecmwf.int/v1/key/\">you have to know your ECMWF Key.</a>\n",
    "- 3- To access CAMS data, please enter the email you use to log in on ECMWF and your ECMWF API Key :"
   ]
  },
  {
   "cell_type": "code",
   "execution_count": null,
   "metadata": {},
   "outputs": [],
   "source": [
    "configure_ecmwfapi()"
   ]
  },
  {
   "cell_type": "markdown",
   "metadata": {},
   "source": [
    "### 2 - Select your CAMS parameters and submit the API request:"
   ]
  },
  {
   "cell_type": "markdown",
   "metadata": {},
   "source": [
    "You have different options with CAMS to analyse air quality data. Here are the parameters we offer you to define in the ECMWF API request :\n",
    "- 1- The most important is to define what kind of air quality data you want to display. We propose the 5 most important : Nitrogen dioxyde, Ozone, Sulfur dioxyde, Particulate Matter <2.5 um, Particulate Matter <10 um.\n",
    "- 2- Select the time interval where you want to get air quality data.\n",
    "- 3- Select the hours where you want to get air quality data on each day of the time interval. `00:00:00` hour is selected by default and you can add these : `06:00`, `12:00`, `18:00`. You can select one or more. Be careful: if you select a 30 days time interval and 4 hours, it will download 120 images. \n",
    "\n",
    "Then, the API request is submitted, and you will get in response a output.grib file on your `work/cams_data/cams_ecmwfapi/images_data` directory gathering all data. Be careful, you cannot load many \"active\" or \"queued\" requests. Please wait until the request is done or see <a href=\"https://apps.ecmwf.int/webmars/joblist/\">your job list</a> to have more informations on the request status."
   ]
  },
  {
   "cell_type": "code",
   "execution_count": null,
   "metadata": {},
   "outputs": [],
   "source": [
    "request_ecmwfapi(output_filename)"
   ]
  },
  {
   "cell_type": "markdown",
   "metadata": {},
   "source": [
    "### 3 - Display data on a map\n",
    "\n",
    "We will ask you now for different information in order to specify where and how you want to display the data on the map. One image per selected hour and day will be downloaded on your `work/cams_data/cams_ecmwfapi/images_data` directory.\n",
    "\n",
    "#### Note\n",
    "\n",
    "The run time may take several minutes."
   ]
  },
  {
   "cell_type": "code",
   "execution_count": null,
   "metadata": {},
   "outputs": [
    {
     "data": {
      "application/vnd.jupyter.widget-view+json": {
       "model_id": "55e7c8ec2dde41ec80af7064e5bcaee2",
       "version_major": 2,
       "version_minor": 0
      },
      "text/plain": [
       "Dropdown(description='Map Location', options=('WORLD', 'AFRICA', 'ASIA', 'EUROPE', 'NORTH-AMERICA', 'NORTH-POL…"
      ]
     },
     "metadata": {},
     "output_type": "display_data"
    },
    {
     "data": {
      "application/vnd.jupyter.widget-view+json": {
       "model_id": "2dc7fd2771f140e69a320a7339e81bcf",
       "version_major": 2,
       "version_minor": 0
      },
      "text/plain": [
       "Button(description='Validate', style=ButtonStyle())"
      ]
     },
     "metadata": {},
     "output_type": "display_data"
    },
    {
     "data": {
      "application/vnd.jupyter.widget-view+json": {
       "model_id": "2f558299429a41a19d1c6053949da742",
       "version_major": 2,
       "version_minor": 0
      },
      "text/plain": [
       "Output()"
      ]
     },
     "metadata": {},
     "output_type": "display_data"
    }
   ],
   "source": [
    "get_projection_map(output_dir, output_filename)"
   ]
  },
  {
   "cell_type": "code",
   "execution_count": null,
   "metadata": {},
   "outputs": [
    {
     "data": {
      "application/vnd.jupyter.widget-view+json": {
       "model_id": "7aec5eda60094aa68d0ddfdbc4cd4206",
       "version_major": 2,
       "version_minor": 0
      },
      "text/plain": [
       "Dropdown(description='GIF Display', options=('tab20c.gif', 'oceanie.gif', 'test.gif', '.gif', 'World.gif', 'As…"
      ]
     },
     "metadata": {},
     "output_type": "display_data"
    },
    {
     "data": {
      "application/vnd.jupyter.widget-view+json": {
       "model_id": "b0f2606191d54b4a8ee4c9b7e379f9ba",
       "version_major": 2,
       "version_minor": 0
      },
      "text/plain": [
       "Button(description='Display this GIF', style=ButtonStyle())"
      ]
     },
     "metadata": {},
     "output_type": "display_data"
    },
    {
     "data": {
      "application/vnd.jupyter.widget-view+json": {
       "model_id": "4c78fd85d7614fd18728df634336311b",
       "version_major": 2,
       "version_minor": 0
      },
      "text/plain": [
       "Output()"
      ]
     },
     "metadata": {},
     "output_type": "display_data"
    }
   ],
   "source": [
    "display_gif_folder()"
   ]
  },
  {
   "cell_type": "code",
   "execution_count": null,
   "metadata": {},
   "outputs": [],
   "source": []
  }
 ],
 "metadata": {
  "kernelspec": {
   "display_name": "Python 3",
   "language": "python",
   "name": "python3"
  },
  "language_info": {
   "codemirror_mode": {
    "name": "ipython",
    "version": 3
   },
   "file_extension": ".py",
   "mimetype": "text/x-python",
   "name": "python",
   "nbconvert_exporter": "python",
   "pygments_lexer": "ipython3",
   "version": "3.7.6"
  }
 },
 "nbformat": 4,
 "nbformat_minor": 4
}
