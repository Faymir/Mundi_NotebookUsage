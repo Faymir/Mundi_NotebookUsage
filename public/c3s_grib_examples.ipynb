{
 "cells": [
  {
   "cell_type": "markdown",
   "metadata": {},
   "source": [
    "# C3S examples \n",
    "## Retrieve and visualize GRIB files"
   ]
  },
  {
   "cell_type": "markdown",
   "metadata": {},
   "source": [
    "## 1 - Configuration"
   ]
  },
  {
   "cell_type": "markdown",
   "metadata": {},
   "source": [
    "### 1.1 - SET YOUR C3S ACCOUNT (FOR THE AUTHENTIFICATION) "
   ]
  },
  {
   "cell_type": "code",
   "execution_count": null,
   "metadata": {},
   "outputs": [],
   "source": [
    "# For Registration (C3S)\n",
    "url_registration= 'https://cds.climate.copernicus.eu/user/register?destination=%2F%23!%2Fhome'\n",
    "from IPython.core.display import display, HTML\n",
    "display(HTML(f\"\"\"<a href={url_registration}>{'Registration_C3S - please click on it'}</a>\"\"\"))"
   ]
  },
  {
   "cell_type": "markdown",
   "metadata": {},
   "source": [
    "### 1.2 - Log in and retrieve your key"
   ]
  },
  {
   "cell_type": "code",
   "execution_count": null,
   "metadata": {},
   "outputs": [],
   "source": [
    "url_login= 'https://cds.climate.copernicus.eu/user/login?destination=%2F%23!%2Fhome'\n",
    "url_key = 'https://cds.climate.copernicus.eu/api-how-to'\n",
    "\n",
    "display(HTML(f\"\"\"<a href={url_login}>{'Please login - please click on it'}</a>\"\"\"))\n",
    "display(HTML(f\"\"\"<a href={url_key}>{'Retrieve your key - please click on it'}</a>\"\"\"))"
   ]
  },
  {
   "cell_type": "markdown",
   "metadata": {},
   "source": [
    "### 1.3- Install the CDS API key"
   ]
  },
  {
   "cell_type": "code",
   "execution_count": null,
   "metadata": {},
   "outputs": [],
   "source": [
    "import os\n",
    "\n",
    "print('Please enter your key:')\n",
    "key = input()\n",
    "\n",
    "content = \"url: https://cds.climate.copernicus.eu/api/v2\\nkey: \" + key\n",
    "\n",
    "#Write content in $HOME/.cdsapirc \n",
    "f = open(os.environ[\"HOME\"] + '/cdsapirc', 'w')\n",
    "f.write(content)\n",
    "f.close()\n",
    "!mv $HOME/cdsapirc $HOME/.cdsapirc"
   ]
  },
  {
   "cell_type": "markdown",
   "metadata": {},
   "source": [
    "## 2 - Consult the catalogue"
   ]
  },
  {
   "cell_type": "markdown",
   "metadata": {},
   "source": [
    "#### Choose a dataset, click on \"Download data\", select the desired parameters, agree to the Terms of Use and finally, click on \"Show API request\" to see the Python script"
   ]
  },
  {
   "cell_type": "code",
   "execution_count": null,
   "metadata": {},
   "outputs": [],
   "source": [
    "url_dataset= 'https://cds.climate.copernicus.eu/cdsapp#!/search?type=dataset'\n",
    "display(HTML(f\"\"\"<a href={url_dataset}>{'Consult the catalogue - please click on it'}</a>\"\"\"))"
   ]
  },
  {
   "cell_type": "markdown",
   "metadata": {},
   "source": [
    "## 3 - Reanalysis"
   ]
  },
  {
   "cell_type": "markdown",
   "metadata": {},
   "source": [
    "### 3.1 - Create a data folder"
   ]
  },
  {
   "cell_type": "code",
   "execution_count": null,
   "metadata": {},
   "outputs": [],
   "source": [
    "#Get the destination folder path\n",
    "folder = '/home/jovyan/c3s_data/c3s_grib_examples/03_reanalysis'\n",
    "\n",
    "import os \n",
    "\n",
    "#Create the folder if it doesn't exist\n",
    "if not os.path.exists(folder):\n",
    "    os.makedirs(folder)\n",
    "\n",
    "filename = folder + '/temperature.grib' #Give a name to your file"
   ]
  },
  {
   "cell_type": "markdown",
   "metadata": {},
   "source": [
    "### 3.2 - Download a file\n",
    "#### TO DO : Check you agree with the __[Terms of Use](https://cds.climate.copernicus.eu/cdsapp#!/dataset/reanalysis-era5-single-levels-monthly-means?tab=form)__ (Last section)\n",
    "#### Note : Please, go to https://cds.climate.copernicus.eu/cdsapp#!/yourrequests to track the progress of your request"
   ]
  },
  {
   "cell_type": "code",
   "execution_count": null,
   "metadata": {},
   "outputs": [],
   "source": [
    "import cdsapi\n",
    "\n",
    "years = ['1988', '1998', '2008', '2018']\n",
    "\n",
    "c = cdsapi.Client()\n",
    "\n",
    "c.retrieve(\n",
    "    'reanalysis-era5-single-levels-monthly-means',\n",
    "    {\n",
    "        'format':'grib',\n",
    "        'month':[\n",
    "            \"01\",\n",
    "            \"02\",\n",
    "            \"03\",\n",
    "            \"04\",\n",
    "            \"05\",\n",
    "            \"06\",\n",
    "            \"07\",\n",
    "            \"08\",\n",
    "            \"09\",\n",
    "            \"10\",\n",
    "            \"11\",\n",
    "            \"12\"\n",
    "          ],\n",
    "        'product_type':'monthly_averaged_reanalysis',\n",
    "        'variable':'2m_temperature',\n",
    "        'year':years,\n",
    "        'time':'00:00'\n",
    "    },\n",
    "    filename)"
   ]
  },
  {
   "cell_type": "markdown",
   "metadata": {},
   "source": [
    "### 3.3 - Display a map"
   ]
  },
  {
   "cell_type": "markdown",
   "metadata": {},
   "source": [
    "#### Note: The file must be in Grib format"
   ]
  },
  {
   "cell_type": "code",
   "execution_count": null,
   "metadata": {},
   "outputs": [],
   "source": [
    "os.environ[\"PROJ_LIB\"] = \"/opt/conda/share/proj\";\n",
    "\n",
    "from IPython.display import Image\n",
    "import pygrib \n",
    "import numpy as np\n",
    "import ipywidgets as widgets\n",
    "\n",
    "from matplotlib.pyplot import figure\n",
    "from mpl_toolkits.basemap import Basemap\n",
    "import matplotlib.pyplot as plt\n",
    "from datetime import datetime\n",
    "import imageio\n",
    "\n",
    "# Open a GRIB file\n",
    "grbs = pygrib.open(filename)\n",
    "\n",
    "grb = grbs.select()[0]\n",
    "vmax = np.amax(grb.values)\n",
    "vmin = np.amin(grb.values)\n",
    "\n",
    "# Get the longitudes and the latitudes \n",
    "latitudes,longitudes = grb.latlons() \n",
    "\n",
    "unit = grb['units']\n",
    "\n",
    "progress_bar = widgets.IntProgress(\n",
    "    value=0,\n",
    "    min=0,\n",
    "    max=len(grbs.select()),\n",
    "    step=1,\n",
    "    description='Loading:',\n",
    "    bar_style='', # 'success', 'info', 'warning', 'danger' or ''\n",
    "    orientation='horizontal'\n",
    ")\n",
    "\n",
    "display(progress_bar)\n",
    "\n",
    "images = []\n",
    "\n",
    "# Create and save a figure for each grib message\n",
    "for grb in grbs.select():\n",
    "    figure(num=None, figsize=(16, 10))\n",
    "    \n",
    "    date = datetime(year=grb['year'], month=grb['month'], day=grb['day'], \\\n",
    "                hour=grb['hour'], minute=grb['minute'], second=grb['second'])\n",
    "\n",
    "    # Create a map\n",
    "    map = Basemap(projection='cyl', lat_ts=10,llcrnrlon=longitudes.min(), \\\n",
    "     urcrnrlon=longitudes.max(),llcrnrlat=latitudes.min(),urcrnrlat=latitudes.max(), \\\n",
    "     resolution='l')\n",
    "\n",
    "    map.drawcoastlines()\n",
    "\n",
    "    x,y = map(longitudes, latitudes)\n",
    "    data = grb.values\n",
    "\n",
    "    #Colour the map \n",
    "    map.pcolormesh(x, y, data, cmap=plt.cm.coolwarm, vmin=vmin, vmax=vmax)\n",
    "    map.colorbar(label=unit)\n",
    "\n",
    "    plt.title(grb['parameterName'] + ' date: ' + date.strftime(\"%Y-%m-%d %H:%M:%S\") + \\\n",
    "              ' step: ' + str(grb['stepRange']) + ' level:' + str(grb['level']))\n",
    "    \n",
    "    \n",
    "    plt.savefig(os.path.join(folder, 'result_' + str(grb.messagenumber)))\n",
    "    plt.close()\n",
    "    \n",
    "    images.append(imageio.imread(os.path.join(folder, 'result_' + str(grb.messagenumber)+ '.png')))\n",
    "    \n",
    "    progress_bar.value += 1\n",
    "\n",
    "result_filename = \"result.gif\"\n",
    "\n",
    "#Create a GIF\n",
    "imageio.mimsave(os.path.join(folder, result_filename), images, 'GIF', duration=0.3)\n",
    "\n",
    "display(Image(os.path.join(folder, result_filename)))"
   ]
  },
  {
   "cell_type": "markdown",
   "metadata": {},
   "source": [
    "### 3.5 - Create a chart"
   ]
  },
  {
   "cell_type": "code",
   "execution_count": null,
   "metadata": {},
   "outputs": [],
   "source": [
    "import calendar\n",
    "import pandas as pd \n",
    "\n",
    "df = pd.DataFrame(index = [calendar.month_abbr[i] for i in range(1,13)])\n",
    "\n",
    "i = 0 \n",
    "#For each year\n",
    "for year in years:\n",
    "    means = []\n",
    "    #For each month, add the mean in a list\n",
    "    for grb in grbs.select(year=[int(year), int(year)-1]):\n",
    "        means.append(np.mean(grb.values))\n",
    "    df.insert(i, year, means, True) \n",
    "    i += 1\n",
    "\n",
    "ax = df.plot.bar(rot=0, figsize=(12, 6))\n",
    "ax.set_ylim(np.amin(means), np.amax(means))\n",
    "\n",
    "plt.title(grbs.select()[0]['name'])\n",
    "plt.ylabel(grbs.select()[0]['units'])\n",
    "plt.legend()\n",
    "plt.show()\n",
    "\n",
    "# # Uncomment this section to see another chart\n",
    "# import calendar\n",
    "# for year in years:\n",
    "#     means = []\n",
    "#     for grb in grbs.select(year=[int(year), int(year)-1]):\n",
    "#         means.append(np.mean(grb.values))\n",
    "#     plt.plot([calendar.month_abbr[i] for i in range(1,13)] , means, label=year)\n",
    "\n",
    "# plt.title(grbs.select()[0]['name'])\n",
    "# plt.ylabel(grbs.select()[0]['units'])\n",
    "# plt.legend()\n",
    "# plt.show()"
   ]
  },
  {
   "cell_type": "markdown",
   "metadata": {},
   "source": [
    "## 4 - Seasonal forecasts"
   ]
  },
  {
   "cell_type": "markdown",
   "metadata": {},
   "source": [
    "### 4.1 - Create a data folder"
   ]
  },
  {
   "cell_type": "code",
   "execution_count": null,
   "metadata": {},
   "outputs": [],
   "source": [
    "#Get the destination folder path\n",
    "folder = '/home/jovyan/work/c3s_data/c3s_grib_examples/04_Seasonal_forecasts'\n",
    "\n",
    "import os \n",
    "\n",
    "#Create the folder if it doesn't exist\n",
    "if not os.path.exists(folder):\n",
    "    os.makedirs(folder)\n",
    "\n",
    "filename = folder + '/precipitation_anomalous_rate.grib' #Give a name to your file"
   ]
  },
  {
   "cell_type": "markdown",
   "metadata": {},
   "source": [
    "### 4.2 - Download a file\n",
    "#### TO DO : Check you agree to the  __[Terms of Use](https://cds.climate.copernicus.eu/cdsapp#!/dataset/seasonal-original-single-levels?tab=form)__ (Last section)\n",
    "#### Note : Please, go to https://cds.climate.copernicus.eu/cdsapp#!/yourrequests to track the progress of your request"
   ]
  },
  {
   "cell_type": "code",
   "execution_count": null,
   "metadata": {},
   "outputs": [],
   "source": [
    "import cdsapi\n",
    "\n",
    "c = cdsapi.Client()\n",
    "\n",
    "c.retrieve(\n",
    "    'seasonal-postprocessed-single-levels',\n",
    "    {\n",
    "        'format':'grib',\n",
    "        'originating_centre':'ecmwf',\n",
    "        'system':'5',\n",
    "        'variable':'total_precipitation_anomalous_rate_of_accumulation',\n",
    "        'product_type':'ensemble_mean',\n",
    "        'year':[\n",
    "            '2017','2018'\n",
    "        ],\n",
    "        'month':[\n",
    "            '01','02','03',\n",
    "            '04','05','06',\n",
    "            '07','08','09',\n",
    "            '10','11','12'\n",
    "        ],\n",
    "        'leadtime_month':'1'\n",
    "    },\n",
    "    filename)"
   ]
  },
  {
   "cell_type": "markdown",
   "metadata": {},
   "source": [
    "#### 4.3 - Display a map"
   ]
  },
  {
   "cell_type": "code",
   "execution_count": null,
   "metadata": {},
   "outputs": [],
   "source": [
    "os.environ[\"PROJ_LIB\"] = \"/opt/conda/share/proj\";\n",
    "\n",
    "from IPython.display import Image\n",
    "import pygrib \n",
    "import numpy as np\n",
    "import ipywidgets as widgets\n",
    "\n",
    "from matplotlib.pyplot import figure\n",
    "from mpl_toolkits.basemap import Basemap\n",
    "import matplotlib.pyplot as plt\n",
    "from datetime import datetime\n",
    "import imageio\n",
    "\n",
    "# Open a GRIB file\n",
    "grbs = pygrib.open(filename)\n",
    "\n",
    "grb = grbs.select()[0]\n",
    "vmax = np.amax(grb.values)\n",
    "vmin = np.amin(grb.values)\n",
    "\n",
    "# Get the longitudes and the latitudes \n",
    "latitudes,longitudes = grb.latlons() \n",
    "\n",
    "unit = grb['units']\n",
    "\n",
    "progress_bar = widgets.IntProgress(\n",
    "    value=0,\n",
    "    min=0,\n",
    "    max=len(grbs.select()),\n",
    "    step=1,\n",
    "    description='Loading:',\n",
    "    bar_style='', # 'success', 'info', 'warning', 'danger' or ''\n",
    "    orientation='horizontal'\n",
    ")\n",
    "\n",
    "display(progress_bar)\n",
    "\n",
    "images = []\n",
    "\n",
    "# Create and save a figure for each grib message\n",
    "for grb in grbs.select():\n",
    "    figure(num=None, figsize=(16, 10))\n",
    "    \n",
    "    date = datetime(year=grb['year'], month=grb['month'], day=grb['day'], \\\n",
    "                hour=grb['hour'], minute=grb['minute'], second=grb['second'])\n",
    "\n",
    "    # Create a map\n",
    "    map = Basemap(projection='cyl', lat_ts=10,llcrnrlon=longitudes.min(), \\\n",
    "     urcrnrlon=longitudes.max(),llcrnrlat=latitudes.min(),urcrnrlat=latitudes.max(), \\\n",
    "     resolution='l')\n",
    "\n",
    "    map.drawcoastlines()\n",
    "\n",
    "    x,y = map(longitudes, latitudes)\n",
    "    data = grb.values\n",
    "\n",
    "    #Colour the map \n",
    "    map.pcolormesh(x, y, data, cmap=plt.cm.jet, vmin=vmin, vmax=vmax)\n",
    "    map.colorbar(label=unit)\n",
    "\n",
    "    plt.title(grb['parameterName'] + ' date: ' + date.strftime(\"%Y-%m-%d %H:%M:%S\") + \\\n",
    "              ' step: ' + str(grb['stepRange']) + ' level:' + str(grb['level']))\n",
    "    \n",
    "    \n",
    "    plt.savefig(os.path.join(folder, 'result_' + str(grb.messagenumber)))\n",
    "    plt.close()\n",
    "    \n",
    "    images.append(imageio.imread(os.path.join(folder, 'result_' + str(grb.messagenumber)+ '.png')))\n",
    "    \n",
    "    progress_bar.value += 1\n",
    "\n",
    "result_filename = \"result.gif\"\n",
    "\n",
    "#Create a GIF\n",
    "# images = [ imageio.imread(os.path.join(folder, 'result_' + str(i)+ '.png')) \\\n",
    "#           for i in range(1, grbs.messages + 1)]\n",
    "imageio.mimsave(os.path.join(folder, result_filename), images, 'GIF', duration=0.3)\n",
    "\n",
    "display(Image(os.path.join(folder, result_filename)))"
   ]
  },
  {
   "cell_type": "code",
   "execution_count": null,
   "metadata": {},
   "outputs": [],
   "source": [
    "import calendar\n",
    "from matplotlib.pyplot import figure\n",
    "\n",
    "figure(num=None, figsize=(10, 6))\n",
    "\n",
    "years = [2017, 2018]\n",
    "\n",
    "for y in years:\n",
    "    means = []\n",
    "    \n",
    "    gribs = grbs.select(year=y)\n",
    "    for grb in gribs :\n",
    "        means.append(np.mean(grb.values))\n",
    "    plt.plot([calendar.month_abbr[i] for i in range(1,13)], means, label=str(y))\n",
    "\n",
    "plt.title(grbs.select()[0]['name'])\n",
    "plt.ylabel(grbs.select()[0]['units'])\n",
    "plt.legend()    \n",
    "plt.show()"
   ]
  },
  {
   "cell_type": "code",
   "execution_count": null,
   "metadata": {},
   "outputs": [],
   "source": []
  }
 ],
 "metadata": {
  "kernelspec": {
   "display_name": "Python 3",
   "language": "python",
   "name": "python3"
  },
  "language_info": {
   "codemirror_mode": {
    "name": "ipython",
    "version": 3
   },
   "file_extension": ".py",
   "mimetype": "text/x-python",
   "name": "python",
   "nbconvert_exporter": "python",
   "pygments_lexer": "ipython3",
   "version": "3.7.6"
  }
 },
 "nbformat": 4,
 "nbformat_minor": 2
}
