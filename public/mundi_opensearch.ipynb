{
 "cells": [
  {
   "cell_type": "code",
   "execution_count": 1,
   "metadata": {},
   "outputs": [],
   "source": [
    "# PYTHONPATH settings\n",
    "import sys\n",
    "sys.path.append(\"/home/jovyan/lib\") "
   ]
  },
  {
   "cell_type": "code",
   "execution_count": 2,
   "metadata": {},
   "outputs": [],
   "source": [
    "from mundilib import mundiCatalogue"
   ]
  },
  {
   "cell_type": "markdown",
   "metadata": {},
   "source": [
    "### opensearch 'Get' request example"
   ]
  },
  {
   "cell_type": "markdown",
   "metadata": {},
   "source": [
    "#### Opensearch used request"
   ]
  },
  {
   "cell_type": "code",
   "execution_count": 3,
   "metadata": {},
   "outputs": [],
   "source": [
    "#https://mundiwebservices.com/acdc/catalog/proxy/search/Sentinel3/opensearch?q=(onlineStatus:(ONLINE OR STAGING) \n",
    "#AND sensingStartDate:[2018-05-20T00:00:00Z TO 2018-05-20T23:59:59Z])&processingLevel=L2_\n",
    "\n",
    "from mundilib import mundiopenURL2, findentries\n",
    "\n",
    "q = \"q=(onlineStatus:(ONLINE OR STAGING) AND sensingStartDate:[2018-05-20T00:00:00Z TO 2018-05-20T23:59:59Z])&processingLevel=L2_\""
   ]
  },
  {
   "cell_type": "markdown",
   "metadata": {},
   "source": [
    "#### Launch an opensearch request on all Mundi Catalogue"
   ]
  },
  {
   "cell_type": "code",
   "execution_count": 4,
   "metadata": {},
   "outputs": [],
   "source": [
    "response_wrapper_list = mundiopenURL2(query=q)"
   ]
  },
  {
   "cell_type": "code",
   "execution_count": 5,
   "metadata": {},
   "outputs": [
    {
     "name": "stdout",
     "output_type": "stream",
     "text": [
      "470\n"
     ]
    }
   ],
   "source": [
    "entries = findentries(response_wrapper_list)\n",
    "print (len(entries))"
   ]
  },
  {
   "cell_type": "markdown",
   "metadata": {},
   "source": [
    "#### Launch an opensearch request on specific mundiCollection"
   ]
  },
  {
   "cell_type": "code",
   "execution_count": 6,
   "metadata": {},
   "outputs": [],
   "source": [
    "c = mundiCatalogue()\n",
    "S3 = c.getCollection(\"Sentinel3\")"
   ]
  },
  {
   "cell_type": "code",
   "execution_count": 7,
   "metadata": {},
   "outputs": [],
   "source": [
    "response_wrapper_list = mundiopenURL2(col=S3, query=q)"
   ]
  },
  {
   "cell_type": "code",
   "execution_count": 8,
   "metadata": {},
   "outputs": [
    {
     "name": "stdout",
     "output_type": "stream",
     "text": [
      "231\n"
     ]
    }
   ],
   "source": [
    "entries = findentries(response_wrapper_list)\n",
    "print (len(entries))"
   ]
  },
  {
   "cell_type": "markdown",
   "metadata": {},
   "source": [
    "#### Getting specific 'entry' field content"
   ]
  },
  {
   "cell_type": "code",
   "execution_count": 9,
   "metadata": {},
   "outputs": [
    {
     "name": "stdout",
     "output_type": "stream",
     "text": [
      "231\n",
      "2018-11-01T12:43:52Z\n",
      "L2_\n",
      "2018-11-01T12:43:50Z\n",
      "L2_\n",
      "2018-11-01T12:43:47Z\n",
      "L2_\n"
     ]
    }
   ],
   "source": [
    "from mundilib import findentries\n",
    "from mundilib import mundi_nsmap\n",
    "\n",
    "entries = findentries(response_wrapper_list)\n",
    "print (len(entries))\n",
    "for entry in entries[:3]:\n",
    "    node = entry.find(\"eo:processingDate\", namespaces=mundi_nsmap)\n",
    "    print (str(node.text))\n",
    "    node = entry.find(\"eo:processingLevel\", namespaces=mundi_nsmap)\n",
    "    print (str(node.text))"
   ]
  },
  {
   "cell_type": "markdown",
   "metadata": {},
   "source": [
    "#### Display all 'opensearch' fields content from an entry"
   ]
  },
  {
   "cell_type": "code",
   "execution_count": 10,
   "metadata": {},
   "outputs": [
    {
     "data": {
      "text/html": [
       "<div>\n",
       "<style scoped>\n",
       "    .dataframe tbody tr th:only-of-type {\n",
       "        vertical-align: middle;\n",
       "    }\n",
       "\n",
       "    .dataframe tbody tr th {\n",
       "        vertical-align: top;\n",
       "    }\n",
       "\n",
       "    .dataframe thead th {\n",
       "        text-align: right;\n",
       "    }\n",
       "</style>\n",
       "<table border=\"1\" class=\"dataframe\">\n",
       "  <thead>\n",
       "    <tr style=\"text-align: right;\">\n",
       "      <th></th>\n",
       "      <th>attribute value</th>\n",
       "    </tr>\n",
       "  </thead>\n",
       "  <tbody>\n",
       "    <tr>\n",
       "      <th>None:id</th>\n",
       "      <td>S3A_OL_2_LFR____20180520T001038_20180520T001040_20180521T052512_0001_031_216_1080_LN1_O_NT_002</td>\n",
       "    </tr>\n",
       "    <tr>\n",
       "      <th>dc:identifier</th>\n",
       "      <td>S3A_OL_2_LFR____20180520T001038_20180520T001040_20180521T052512_0001_031_216_1080_LN1_O_NT_002</td>\n",
       "    </tr>\n",
       "    <tr>\n",
       "      <th>None:summary</th>\n",
       "      <td>name: S3A_OL_2_LFR____20180520T001038_20180520T001040_20180521T052512_0001_031_216_1080_LN1_O_NT_002</td>\n",
       "    </tr>\n",
       "    <tr>\n",
       "      <th>None:category</th>\n",
       "      <td>imagery</td>\n",
       "    </tr>\n",
       "    <tr>\n",
       "      <th>eo:parentIdentifier</th>\n",
       "      <td>S3A_OL_2_LFR____20180520T001038_20180520T001040_20180521T052512_0001_031_216_1080_LN1_O_NT_002</td>\n",
       "    </tr>\n",
       "    <tr>\n",
       "      <th>DIAS:metadataFormat</th>\n",
       "      <td>NATIVE</td>\n",
       "    </tr>\n",
       "    <tr>\n",
       "      <th>DIAS:imageFileFormat</th>\n",
       "      <td>NETCDF</td>\n",
       "    </tr>\n",
       "    <tr>\n",
       "      <th>DIAS:orderID</th>\n",
       "      <td>UNKNOWN</td>\n",
       "    </tr>\n",
       "    <tr>\n",
       "      <th>DIAS:sceneIndex</th>\n",
       "      <td>1</td>\n",
       "    </tr>\n",
       "    <tr>\n",
       "      <th>None:link</th>\n",
       "      <td>None</td>\n",
       "    </tr>\n",
       "    <tr>\n",
       "      <th>media:group</th>\n",
       "      <td>None</td>\n",
       "    </tr>\n",
       "    <tr>\n",
       "      <th>dc:date</th>\n",
       "      <td>2018-05-20T00:10:37Z</td>\n",
       "    </tr>\n",
       "    <tr>\n",
       "      <th>None:title</th>\n",
       "      <td>S3A_OL_2_LFR____20180520T001038_20180520T001040_20180521T052512_0001_031_216_1080_LN1_O_NT_002</td>\n",
       "    </tr>\n",
       "    <tr>\n",
       "      <th>eo:sensorType</th>\n",
       "      <td>OPTIC</td>\n",
       "    </tr>\n",
       "    <tr>\n",
       "      <th>eo:sensorMode</th>\n",
       "      <td>EO</td>\n",
       "    </tr>\n",
       "    <tr>\n",
       "      <th>eo:instrument</th>\n",
       "      <td>OLCI</td>\n",
       "    </tr>\n",
       "    <tr>\n",
       "      <th>eo:orbitDirection</th>\n",
       "      <td>ASCENDING</td>\n",
       "    </tr>\n",
       "    <tr>\n",
       "      <th>eo:productType</th>\n",
       "      <td>OL_2_LFR___</td>\n",
       "    </tr>\n",
       "    <tr>\n",
       "      <th>eo:processingLevel</th>\n",
       "      <td>L2_</td>\n",
       "    </tr>\n",
       "    <tr>\n",
       "      <th>eo:archivingCenter</th>\n",
       "      <td>DIAS_</td>\n",
       "    </tr>\n",
       "    <tr>\n",
       "      <th>eo:acquisitionStation</th>\n",
       "      <td>ESAS3</td>\n",
       "    </tr>\n",
       "    <tr>\n",
       "      <th>eo:processingCenter</th>\n",
       "      <td>ESAS3</td>\n",
       "    </tr>\n",
       "    <tr>\n",
       "      <th>eo:processingDate</th>\n",
       "      <td>2018-11-01T12:43:52Z</td>\n",
       "    </tr>\n",
       "    <tr>\n",
       "      <th>georss:box</th>\n",
       "      <td>70.6012 -68.9196 74.9148 -30.8604</td>\n",
       "    </tr>\n",
       "    <tr>\n",
       "      <th>georss:polygon</th>\n",
       "      <td>74.9148 -30.8726 74.8832 -33.3888 74.8276 -35.738 74.7483 -38.0576 74.6443 -40.3723 74.5182 -42.6286 74.3688 -44.8577 74.1979 -47.0341 74.0053 -49.1727 73.7924 -51.2548 73.5553 -53.2756 73.305 -55...</td>\n",
       "    </tr>\n",
       "    <tr>\n",
       "      <th>eo:productQualityStatus</th>\n",
       "      <td>NOTVERIFIED</td>\n",
       "    </tr>\n",
       "    <tr>\n",
       "      <th>DIAS:generalQuality</th>\n",
       "      <td>PASSED</td>\n",
       "    </tr>\n",
       "    <tr>\n",
       "      <th>dc:creator</th>\n",
       "      <td>dhus</td>\n",
       "    </tr>\n",
       "    <tr>\n",
       "      <th>DIAS:productConfidentialityLevel</th>\n",
       "      <td>NOT_PROTECTED</td>\n",
       "    </tr>\n",
       "    <tr>\n",
       "      <th>DIAS:equivalentNumberofScene</th>\n",
       "      <td>1</td>\n",
       "    </tr>\n",
       "    <tr>\n",
       "      <th>eo:platform</th>\n",
       "      <td>Sentinel3</td>\n",
       "    </tr>\n",
       "    <tr>\n",
       "      <th>dct:audience</th>\n",
       "      <td>All</td>\n",
       "    </tr>\n",
       "    <tr>\n",
       "      <th>DIAS:onlineStatus</th>\n",
       "      <td>STAGING</td>\n",
       "    </tr>\n",
       "    <tr>\n",
       "      <th>DIAS:archiveInstanceReference</th>\n",
       "      <td>ACDC_</td>\n",
       "    </tr>\n",
       "    <tr>\n",
       "      <th>DIAS:productDatapackSize</th>\n",
       "      <td>1719664.0</td>\n",
       "    </tr>\n",
       "    <tr>\n",
       "      <th>None:published</th>\n",
       "      <td>2018-11-02T21:54:37Z</td>\n",
       "    </tr>\n",
       "    <tr>\n",
       "      <th>None:updated</th>\n",
       "      <td>2018-11-26T05:13:31Z</td>\n",
       "    </tr>\n",
       "    <tr>\n",
       "      <th>dc:format</th>\n",
       "      <td>SAFE</td>\n",
       "    </tr>\n",
       "    <tr>\n",
       "      <th>dc:rights</th>\n",
       "      <td>Copernicus Sentinel data 2018</td>\n",
       "    </tr>\n",
       "    <tr>\n",
       "      <th>eo:acquisitionType</th>\n",
       "      <td>SIMPLE</td>\n",
       "    </tr>\n",
       "    <tr>\n",
       "      <th>DIAS:processingBaseline</th>\n",
       "      <td>1.0</td>\n",
       "    </tr>\n",
       "    <tr>\n",
       "      <th>DIAS:cycleNumber</th>\n",
       "      <td>31</td>\n",
       "    </tr>\n",
       "    <tr>\n",
       "      <th>DIAS:pduDuration</th>\n",
       "      <td>1</td>\n",
       "    </tr>\n",
       "    <tr>\n",
       "      <th>DIAS:passNumber</th>\n",
       "      <td>23477</td>\n",
       "    </tr>\n",
       "    <tr>\n",
       "      <th>DIAS:passDirection</th>\n",
       "      <td>ASCENDING</td>\n",
       "    </tr>\n",
       "    <tr>\n",
       "      <th>DIAS:relativeOrbitDirection</th>\n",
       "      <td>ASCENDING</td>\n",
       "    </tr>\n",
       "    <tr>\n",
       "      <th>DIAS:relativeOrbitNumber</th>\n",
       "      <td>216</td>\n",
       "    </tr>\n",
       "    <tr>\n",
       "      <th>DIAS:relativePassNumber</th>\n",
       "      <td>431</td>\n",
       "    </tr>\n",
       "    <tr>\n",
       "      <th>DIAS:relativePassDirection</th>\n",
       "      <td>ASCENDING</td>\n",
       "    </tr>\n",
       "    <tr>\n",
       "      <th>DIAS:manualQualityCheckStatus</th>\n",
       "      <td>NOT_CHECKED</td>\n",
       "    </tr>\n",
       "    <tr>\n",
       "      <th>DIAS:manualQualityCheckStatusComment</th>\n",
       "      <td>NOT_CHECKED</td>\n",
       "    </tr>\n",
       "    <tr>\n",
       "      <th>DIAS:referenceProductOnly</th>\n",
       "      <td>true</td>\n",
       "    </tr>\n",
       "    <tr>\n",
       "      <th>DIAS:sensingStartDate</th>\n",
       "      <td>2018-05-20T00:10:37Z</td>\n",
       "    </tr>\n",
       "    <tr>\n",
       "      <th>DIAS:sensingStopDate</th>\n",
       "      <td>2018-05-20T00:10:39Z</td>\n",
       "    </tr>\n",
       "    <tr>\n",
       "      <th>DIAS:watcherRecordValidity</th>\n",
       "      <td>true</td>\n",
       "    </tr>\n",
       "    <tr>\n",
       "      <th>DIAS:ingestionDate</th>\n",
       "      <td>2018-11-26T05:13:30Z</td>\n",
       "    </tr>\n",
       "    <tr>\n",
       "      <th>DIAS:productDeliveryFormat</th>\n",
       "      <td>zip</td>\n",
       "    </tr>\n",
       "    <tr>\n",
       "      <th>DIAS:checksum</th>\n",
       "      <td>4603045AFBB8033531BAB07883246B37</td>\n",
       "    </tr>\n",
       "  </tbody>\n",
       "</table>\n",
       "</div>"
      ],
      "text/plain": [
       "                                                                                                                                                                                                                              attribute value\n",
       "None:id                                                                                                                                        S3A_OL_2_LFR____20180520T001038_20180520T001040_20180521T052512_0001_031_216_1080_LN1_O_NT_002\n",
       "dc:identifier                                                                                                                                  S3A_OL_2_LFR____20180520T001038_20180520T001040_20180521T052512_0001_031_216_1080_LN1_O_NT_002\n",
       "None:summary                                                                                                                             name: S3A_OL_2_LFR____20180520T001038_20180520T001040_20180521T052512_0001_031_216_1080_LN1_O_NT_002\n",
       "None:category                                                                                                                                                                                                                         imagery\n",
       "eo:parentIdentifier                                                                                                                            S3A_OL_2_LFR____20180520T001038_20180520T001040_20180521T052512_0001_031_216_1080_LN1_O_NT_002\n",
       "DIAS:metadataFormat                                                                                                                                                                                                                    NATIVE\n",
       "DIAS:imageFileFormat                                                                                                                                                                                                                   NETCDF\n",
       "DIAS:orderID                                                                                                                                                                                                                          UNKNOWN\n",
       "DIAS:sceneIndex                                                                                                                                                                                                                             1\n",
       "None:link                                                                                                                                                                                                                                None\n",
       "media:group                                                                                                                                                                                                                              None\n",
       "dc:date                                                                                                                                                                                                                  2018-05-20T00:10:37Z\n",
       "None:title                                                                                                                                     S3A_OL_2_LFR____20180520T001038_20180520T001040_20180521T052512_0001_031_216_1080_LN1_O_NT_002\n",
       "eo:sensorType                                                                                                                                                                                                                           OPTIC\n",
       "eo:sensorMode                                                                                                                                                                                                                              EO\n",
       "eo:instrument                                                                                                                                                                                                                            OLCI\n",
       "eo:orbitDirection                                                                                                                                                                                                                   ASCENDING\n",
       "eo:productType                                                                                                                                                                                                                    OL_2_LFR___\n",
       "eo:processingLevel                                                                                                                                                                                                                        L2_\n",
       "eo:archivingCenter                                                                                                                                                                                                                      DIAS_\n",
       "eo:acquisitionStation                                                                                                                                                                                                                   ESAS3\n",
       "eo:processingCenter                                                                                                                                                                                                                     ESAS3\n",
       "eo:processingDate                                                                                                                                                                                                        2018-11-01T12:43:52Z\n",
       "georss:box                                                                                                                                                                                                  70.6012 -68.9196 74.9148 -30.8604\n",
       "georss:polygon                        74.9148 -30.8726 74.8832 -33.3888 74.8276 -35.738 74.7483 -38.0576 74.6443 -40.3723 74.5182 -42.6286 74.3688 -44.8577 74.1979 -47.0341 74.0053 -49.1727 73.7924 -51.2548 73.5553 -53.2756 73.305 -55...\n",
       "eo:productQualityStatus                                                                                                                                                                                                           NOTVERIFIED\n",
       "DIAS:generalQuality                                                                                                                                                                                                                    PASSED\n",
       "dc:creator                                                                                                                                                                                                                               dhus\n",
       "DIAS:productConfidentialityLevel                                                                                                                                                                                                NOT_PROTECTED\n",
       "DIAS:equivalentNumberofScene                                                                                                                                                                                                                1\n",
       "eo:platform                                                                                                                                                                                                                         Sentinel3\n",
       "dct:audience                                                                                                                                                                                                                              All\n",
       "DIAS:onlineStatus                                                                                                                                                                                                                     STAGING\n",
       "DIAS:archiveInstanceReference                                                                                                                                                                                                           ACDC_\n",
       "DIAS:productDatapackSize                                                                                                                                                                                                            1719664.0\n",
       "None:published                                                                                                                                                                                                           2018-11-02T21:54:37Z\n",
       "None:updated                                                                                                                                                                                                             2018-11-26T05:13:31Z\n",
       "dc:format                                                                                                                                                                                                                                SAFE\n",
       "dc:rights                                                                                                                                                                                                      Copernicus Sentinel data 2018 \n",
       "eo:acquisitionType                                                                                                                                                                                                                     SIMPLE\n",
       "DIAS:processingBaseline                                                                                                                                                                                                                   1.0\n",
       "DIAS:cycleNumber                                                                                                                                                                                                                           31\n",
       "DIAS:pduDuration                                                                                                                                                                                                                            1\n",
       "DIAS:passNumber                                                                                                                                                                                                                         23477\n",
       "DIAS:passDirection                                                                                                                                                                                                                  ASCENDING\n",
       "DIAS:relativeOrbitDirection                                                                                                                                                                                                         ASCENDING\n",
       "DIAS:relativeOrbitNumber                                                                                                                                                                                                                  216\n",
       "DIAS:relativePassNumber                                                                                                                                                                                                                   431\n",
       "DIAS:relativePassDirection                                                                                                                                                                                                          ASCENDING\n",
       "DIAS:manualQualityCheckStatus                                                                                                                                                                                                     NOT_CHECKED\n",
       "DIAS:manualQualityCheckStatusComment                                                                                                                                                                                              NOT_CHECKED\n",
       "DIAS:referenceProductOnly                                                                                                                                                                                                                true\n",
       "DIAS:sensingStartDate                                                                                                                                                                                                    2018-05-20T00:10:37Z\n",
       "DIAS:sensingStopDate                                                                                                                                                                                                     2018-05-20T00:10:39Z\n",
       "DIAS:watcherRecordValidity                                                                                                                                                                                                               true\n",
       "DIAS:ingestionDate                                                                                                                                                                                                       2018-11-26T05:13:30Z\n",
       "DIAS:productDeliveryFormat                                                                                                                                                                                                                zip\n",
       "DIAS:checksum                                                                                                                                                                                                4603045AFBB8033531BAB07883246B37"
      ]
     },
     "execution_count": 10,
     "metadata": {},
     "output_type": "execute_result"
    }
   ],
   "source": [
    "obj = entries[:1][0]\n",
    "d = {}\n",
    "for childNodes in obj:\n",
    "    attr = str(childNodes.prefix) + \":\" + childNodes.tag[childNodes.tag.index('}')+1:]\n",
    "    d[attr] = childNodes.text\n",
    "\n",
    "# list some attribute/value of the entry (panda table)\n",
    "import pandas as pd\n",
    "df = pd.DataFrame(d, index=['attribute value'])\n",
    "pd.set_option('max_colwidth', 200)\n",
    "df.T"
   ]
  },
  {
   "cell_type": "markdown",
   "metadata": {},
   "source": [
    "#### Only get number of opensearch request products"
   ]
  },
  {
   "cell_type": "code",
   "execution_count": 11,
   "metadata": {},
   "outputs": [
    {
     "name": "stdout",
     "output_type": "stream",
     "text": [
      "231\n"
     ]
    }
   ],
   "source": [
    "from mundilib import mundinbopenURL2\n",
    "\n",
    "q = \"q=(onlineStatus:(ONLINE OR STAGING) AND sensingStartDate:[2018-05-20T00:00:00Z TO 2018-05-20T23:59:59Z])&processingLevel=L2_\"\n",
    "nb = mundinbopenURL2(S3, query=q)\n",
    "print (nb)"
   ]
  },
  {
   "cell_type": "code",
   "execution_count": null,
   "metadata": {},
   "outputs": [],
   "source": []
  }
 ],
 "metadata": {
  "kernelspec": {
   "display_name": "Python 3",
   "language": "python",
   "name": "python3"
  },
  "language_info": {
   "codemirror_mode": {
    "name": "ipython",
    "version": 3
   },
   "file_extension": ".py",
   "mimetype": "text/x-python",
   "name": "python",
   "nbconvert_exporter": "python",
   "pygments_lexer": "ipython3",
   "version": "3.6.6"
  }
 },
 "nbformat": 4,
 "nbformat_minor": 2
}
